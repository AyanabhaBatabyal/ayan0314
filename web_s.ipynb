{
  "nbformat": 4,
  "nbformat_minor": 0,
  "metadata": {
    "colab": {
      "name": "web-s.ipynb",
      "provenance": [],
      "collapsed_sections": [],
      "authorship_tag": "ABX9TyOH/f97oQ87gCo9tMuess+u",
      "include_colab_link": true
    },
    "kernelspec": {
      "name": "python3",
      "display_name": "Python 3"
    }
  },
  "cells": [
    {
      "cell_type": "markdown",
      "metadata": {
        "id": "view-in-github",
        "colab_type": "text"
      },
      "source": [
        "<a href=\"https://colab.research.google.com/github/AyanabhaBatabyal/ayan0314/blob/master/web_s.ipynb\" target=\"_parent\"><img src=\"https://colab.research.google.com/assets/colab-badge.svg\" alt=\"Open In Colab\"/></a>"
      ]
    },
    {
      "cell_type": "code",
      "metadata": {
        "id": "Zv-16cjVk_5c",
        "colab_type": "code",
        "outputId": "18141848-6216-4a02-a608-47c775e91346",
        "colab": {
          "base_uri": "https://localhost:8080/",
          "height": 1000
        }
      },
      "source": [
        "!pip3 install newspaper3k"
      ],
      "execution_count": 0,
      "outputs": [
        {
          "output_type": "stream",
          "text": [
            "Collecting newspaper3k\n",
            "\u001b[?25l  Downloading https://files.pythonhosted.org/packages/d7/b9/51afecb35bb61b188a4b44868001de348a0e8134b4dfa00ffc191567c4b9/newspaper3k-0.2.8-py3-none-any.whl (211kB)\n",
            "\r\u001b[K     |█▌                              | 10kB 17.8MB/s eta 0:00:01\r\u001b[K     |███                             | 20kB 1.6MB/s eta 0:00:01\r\u001b[K     |████▋                           | 30kB 2.4MB/s eta 0:00:01\r\u001b[K     |██████▏                         | 40kB 1.6MB/s eta 0:00:01\r\u001b[K     |███████▊                        | 51kB 2.0MB/s eta 0:00:01\r\u001b[K     |█████████▎                      | 61kB 2.4MB/s eta 0:00:01\r\u001b[K     |██████████▉                     | 71kB 2.7MB/s eta 0:00:01\r\u001b[K     |████████████▍                   | 81kB 3.1MB/s eta 0:00:01\r\u001b[K     |██████████████                  | 92kB 2.4MB/s eta 0:00:01\r\u001b[K     |███████████████▌                | 102kB 2.7MB/s eta 0:00:01\r\u001b[K     |█████████████████               | 112kB 2.7MB/s eta 0:00:01\r\u001b[K     |██████████████████▋             | 122kB 2.7MB/s eta 0:00:01\r\u001b[K     |████████████████████▏           | 133kB 2.7MB/s eta 0:00:01\r\u001b[K     |█████████████████████▊          | 143kB 2.7MB/s eta 0:00:01\r\u001b[K     |███████████████████████▎        | 153kB 2.7MB/s eta 0:00:01\r\u001b[K     |████████████████████████▉       | 163kB 2.7MB/s eta 0:00:01\r\u001b[K     |██████████████████████████▍     | 174kB 2.7MB/s eta 0:00:01\r\u001b[K     |████████████████████████████    | 184kB 2.7MB/s eta 0:00:01\r\u001b[K     |█████████████████████████████▌  | 194kB 2.7MB/s eta 0:00:01\r\u001b[K     |███████████████████████████████ | 204kB 2.7MB/s eta 0:00:01\r\u001b[K     |████████████████████████████████| 215kB 2.7MB/s \n",
            "\u001b[?25hRequirement already satisfied: beautifulsoup4>=4.4.1 in /usr/local/lib/python3.6/dist-packages (from newspaper3k) (4.6.3)\n",
            "Requirement already satisfied: requests>=2.10.0 in /usr/local/lib/python3.6/dist-packages (from newspaper3k) (2.21.0)\n",
            "Requirement already satisfied: nltk>=3.2.1 in /usr/local/lib/python3.6/dist-packages (from newspaper3k) (3.2.5)\n",
            "Collecting tinysegmenter==0.3\n",
            "  Downloading https://files.pythonhosted.org/packages/17/82/86982e4b6d16e4febc79c2a1d68ee3b707e8a020c5d2bc4af8052d0f136a/tinysegmenter-0.3.tar.gz\n",
            "Requirement already satisfied: PyYAML>=3.11 in /usr/local/lib/python3.6/dist-packages (from newspaper3k) (3.13)\n",
            "Requirement already satisfied: lxml>=3.6.0 in /usr/local/lib/python3.6/dist-packages (from newspaper3k) (4.2.6)\n",
            "Collecting cssselect>=0.9.2\n",
            "  Downloading https://files.pythonhosted.org/packages/3b/d4/3b5c17f00cce85b9a1e6f91096e1cc8e8ede2e1be8e96b87ce1ed09e92c5/cssselect-1.1.0-py2.py3-none-any.whl\n",
            "Requirement already satisfied: Pillow>=3.3.0 in /usr/local/lib/python3.6/dist-packages (from newspaper3k) (7.0.0)\n",
            "Collecting feedparser>=5.2.1\n",
            "\u001b[?25l  Downloading https://files.pythonhosted.org/packages/91/d8/7d37fec71ff7c9dbcdd80d2b48bcdd86d6af502156fc93846fb0102cb2c4/feedparser-5.2.1.tar.bz2 (192kB)\n",
            "\u001b[K     |████████████████████████████████| 194kB 50.2MB/s \n",
            "\u001b[?25hCollecting tldextract>=2.0.1\n",
            "\u001b[?25l  Downloading https://files.pythonhosted.org/packages/fd/0e/9ab599d6e78f0340bb1d1e28ddeacb38c8bb7f91a1b0eae9a24e9603782f/tldextract-2.2.2-py2.py3-none-any.whl (48kB)\n",
            "\u001b[K     |████████████████████████████████| 51kB 7.0MB/s \n",
            "\u001b[?25hCollecting feedfinder2>=0.0.4\n",
            "  Downloading https://files.pythonhosted.org/packages/35/82/1251fefec3bb4b03fd966c7e7f7a41c9fc2bb00d823a34c13f847fd61406/feedfinder2-0.0.4.tar.gz\n",
            "Requirement already satisfied: python-dateutil>=2.5.3 in /usr/local/lib/python3.6/dist-packages (from newspaper3k) (2.8.1)\n",
            "Collecting jieba3k>=0.35.1\n",
            "\u001b[?25l  Downloading https://files.pythonhosted.org/packages/a9/cb/2c8332bcdc14d33b0bedd18ae0a4981a069c3513e445120da3c3f23a8aaa/jieba3k-0.35.1.zip (7.4MB)\n",
            "\u001b[K     |████████████████████████████████| 7.4MB 48.2MB/s \n",
            "\u001b[?25hRequirement already satisfied: urllib3<1.25,>=1.21.1 in /usr/local/lib/python3.6/dist-packages (from requests>=2.10.0->newspaper3k) (1.24.3)\n",
            "Requirement already satisfied: certifi>=2017.4.17 in /usr/local/lib/python3.6/dist-packages (from requests>=2.10.0->newspaper3k) (2019.11.28)\n",
            "Requirement already satisfied: chardet<3.1.0,>=3.0.2 in /usr/local/lib/python3.6/dist-packages (from requests>=2.10.0->newspaper3k) (3.0.4)\n",
            "Requirement already satisfied: idna<2.9,>=2.5 in /usr/local/lib/python3.6/dist-packages (from requests>=2.10.0->newspaper3k) (2.8)\n",
            "Requirement already satisfied: six in /usr/local/lib/python3.6/dist-packages (from nltk>=3.2.1->newspaper3k) (1.12.0)\n",
            "Collecting requests-file>=1.4\n",
            "  Downloading https://files.pythonhosted.org/packages/23/9c/6e63c23c39e53d3df41c77a3d05a49a42c4e1383a6d2a5e3233161b89dbf/requests_file-1.4.3-py2.py3-none-any.whl\n",
            "Requirement already satisfied: setuptools in /usr/local/lib/python3.6/dist-packages (from tldextract>=2.0.1->newspaper3k) (46.0.0)\n",
            "Building wheels for collected packages: tinysegmenter, feedparser, feedfinder2, jieba3k\n",
            "  Building wheel for tinysegmenter (setup.py) ... \u001b[?25l\u001b[?25hdone\n",
            "  Created wheel for tinysegmenter: filename=tinysegmenter-0.3-cp36-none-any.whl size=13539 sha256=527bc649ef81b830e334ae266f1c9f1a4c00c0894f710ef81ad46532173721fd\n",
            "  Stored in directory: /root/.cache/pip/wheels/81/2b/43/a02ede72324dd40cdd7ca53aad718c7710628e91b8b0dc0f02\n",
            "  Building wheel for feedparser (setup.py) ... \u001b[?25l\u001b[?25hdone\n",
            "  Created wheel for feedparser: filename=feedparser-5.2.1-cp36-none-any.whl size=44940 sha256=b69f936f99ecbdf2c3a71aabe3b794bd97fbb1b8254f20eabf94704ab3f48377\n",
            "  Stored in directory: /root/.cache/pip/wheels/8c/69/b7/f52763c41c5471df57703a0ef718a32a5e81ee35dcf6d4f97f\n",
            "  Building wheel for feedfinder2 (setup.py) ... \u001b[?25l\u001b[?25hdone\n",
            "  Created wheel for feedfinder2: filename=feedfinder2-0.0.4-cp36-none-any.whl size=3357 sha256=76481952d3b02f75c03f5d4c6e28fe10e2ae53c2640ba01caf24b8d9de6ea743\n",
            "  Stored in directory: /root/.cache/pip/wheels/de/03/ca/778e3a7a627e3d98836cc890e7cb40c7575424cfd3340f40ed\n",
            "  Building wheel for jieba3k (setup.py) ... \u001b[?25l\u001b[?25hdone\n",
            "  Created wheel for jieba3k: filename=jieba3k-0.35.1-cp36-none-any.whl size=7398406 sha256=15e67ac1c91ad6fec2230bc04ce58249ca2bfac3a33aa7ebcd2f59b2c59c34e9\n",
            "  Stored in directory: /root/.cache/pip/wheels/83/15/9c/a3f1f67e7f7181170ad37d32e503c35da20627c013f438ed34\n",
            "Successfully built tinysegmenter feedparser feedfinder2 jieba3k\n",
            "Installing collected packages: tinysegmenter, cssselect, feedparser, requests-file, tldextract, feedfinder2, jieba3k, newspaper3k\n",
            "Successfully installed cssselect-1.1.0 feedfinder2-0.0.4 feedparser-5.2.1 jieba3k-0.35.1 newspaper3k-0.2.8 requests-file-1.4.3 tinysegmenter-0.3 tldextract-2.2.2\n",
            "Collecting selenium\n",
            "\u001b[?25l  Downloading https://files.pythonhosted.org/packages/80/d6/4294f0b4bce4de0abf13e17190289f9d0613b0a44e5dd6a7f5ca98459853/selenium-3.141.0-py2.py3-none-any.whl (904kB)\n",
            "\u001b[K     |████████████████████████████████| 911kB 2.8MB/s \n",
            "\u001b[?25hRequirement already satisfied: urllib3 in /usr/local/lib/python3.6/dist-packages (from selenium) (1.24.3)\n",
            "Installing collected packages: selenium\n",
            "Successfully installed selenium-3.141.0\n",
            "Requirement already satisfied: bs4 in /usr/local/lib/python3.6/dist-packages (0.0.1)\n",
            "Requirement already satisfied: beautifulsoup4 in /usr/local/lib/python3.6/dist-packages (from bs4) (4.6.3)\n",
            "Requirement already satisfied: pandas in /usr/local/lib/python3.6/dist-packages (0.25.3)\n",
            "Requirement already satisfied: python-dateutil>=2.6.1 in /usr/local/lib/python3.6/dist-packages (from pandas) (2.8.1)\n",
            "Requirement already satisfied: numpy>=1.13.3 in /usr/local/lib/python3.6/dist-packages (from pandas) (1.18.2)\n",
            "Requirement already satisfied: pytz>=2017.2 in /usr/local/lib/python3.6/dist-packages (from pandas) (2018.9)\n",
            "Requirement already satisfied: six>=1.5 in /usr/local/lib/python3.6/dist-packages (from python-dateutil>=2.6.1->pandas) (1.12.0)\n",
            "Collecting webdriver_manager\n",
            "  Downloading https://files.pythonhosted.org/packages/c2/f6/bd9d73991fd8d1b488aefa4b55711af670e938a9b8549ffd8ecc42780069/webdriver_manager-2.3.0-py2.py3-none-any.whl\n",
            "Requirement already satisfied: requests in /usr/local/lib/python3.6/dist-packages (from webdriver_manager) (2.21.0)\n",
            "Collecting configparser\n",
            "  Downloading https://files.pythonhosted.org/packages/7a/2a/95ed0501cf5d8709490b1d3a3f9b5cf340da6c433f896bbe9ce08dbe6785/configparser-4.0.2-py2.py3-none-any.whl\n",
            "Collecting crayons\n",
            "  Downloading https://files.pythonhosted.org/packages/f8/64/ab71c69db049a5f404f1f2c7627578f4b59aca55e6ad9d939721ce6466dd/crayons-0.3.0-py2.py3-none-any.whl\n",
            "Requirement already satisfied: chardet<3.1.0,>=3.0.2 in /usr/local/lib/python3.6/dist-packages (from requests->webdriver_manager) (3.0.4)\n",
            "Requirement already satisfied: certifi>=2017.4.17 in /usr/local/lib/python3.6/dist-packages (from requests->webdriver_manager) (2019.11.28)\n",
            "Requirement already satisfied: urllib3<1.25,>=1.21.1 in /usr/local/lib/python3.6/dist-packages (from requests->webdriver_manager) (1.24.3)\n",
            "Requirement already satisfied: idna<2.9,>=2.5 in /usr/local/lib/python3.6/dist-packages (from requests->webdriver_manager) (2.8)\n",
            "Collecting colorama\n",
            "  Downloading https://files.pythonhosted.org/packages/c9/dc/45cdef1b4d119eb96316b3117e6d5708a08029992b2fee2c143c7a0a5cc5/colorama-0.4.3-py2.py3-none-any.whl\n",
            "Installing collected packages: configparser, colorama, crayons, webdriver-manager\n",
            "Successfully installed colorama-0.4.3 configparser-4.0.2 crayons-0.3.0 webdriver-manager-2.3.0\n"
          ],
          "name": "stdout"
        }
      ]
    },
    {
      "cell_type": "code",
      "metadata": {
        "id": "RJXGj3UtkjUF",
        "colab_type": "code",
        "colab": {}
      },
      "source": [
        "import requests\n",
        "r = requests.get('https://news.google.com/topics/CAAqJggKIiBDQkFTRWdvSUwyMHZNRGx6TVdZU0FtVnVHZ0pKVGlnQVAB?hl=en-IN&gl=IN&ceid=IN%3Aen')"
      ],
      "execution_count": 0,
      "outputs": []
    },
    {
      "cell_type": "code",
      "metadata": {
        "id": "p0Shi-QL5N7O",
        "colab_type": "code",
        "colab": {}
      },
      "source": [
        "from bs4 import BeautifulSoup\n",
        "soup = BeautifulSoup(r.text, 'html.parser')"
      ],
      "execution_count": 0,
      "outputs": []
    },
    {
      "cell_type": "code",
      "metadata": {
        "id": "khO6iPou5rLN",
        "colab_type": "code",
        "colab": {}
      },
      "source": [
        "results = soup.find_all('div', attrs={'class':'xrnccd F6Welf R7GTQ keNKEd j7vNaf'})"
      ],
      "execution_count": 0,
      "outputs": []
    },
    {
      "cell_type": "code",
      "metadata": {
        "id": "4MVbv7SO6OB6",
        "colab_type": "code",
        "outputId": "79da5665-29af-439b-e010-cd461ecac251",
        "colab": {
          "base_uri": "https://localhost:8080/",
          "height": 34
        }
      },
      "source": [
        "len(results)"
      ],
      "execution_count": 255,
      "outputs": [
        {
          "output_type": "execute_result",
          "data": {
            "text/plain": [
              "57"
            ]
          },
          "metadata": {
            "tags": []
          },
          "execution_count": 255
        }
      ]
    },
    {
      "cell_type": "code",
      "metadata": {
        "id": "prNf7zUj6SdY",
        "colab_type": "code",
        "colab": {}
      },
      "source": [
        "results"
      ],
      "execution_count": 0,
      "outputs": []
    },
    {
      "cell_type": "code",
      "metadata": {
        "id": "HT_CSLaz6hvm",
        "colab_type": "code",
        "outputId": "46896e5c-659a-4ebc-bc36-7ae29eaa1b49",
        "colab": {
          "base_uri": "https://localhost:8080/",
          "height": 54
        }
      },
      "source": [
        "results[-1]"
      ],
      "execution_count": 0,
      "outputs": [
        {
          "output_type": "execute_result",
          "data": {
            "text/plain": [
              "<div class=\"xrnccd F6Welf R7GTQ keNKEd j7vNaf\"><article class=\" MQsxIb xTewfe R7GTQ keNKEd j7vNaf Cc0Z5d EjqUne\" data-kind=\"13\" data-n-cvid=\"i418\" data-n-et=\"107\" data-n-ham=\"true\" data-n-vlb=\"0\" jsaction=\";rcuQ6b:npT2md; click:KjsqPd;EXlHgb:HQ4Dqd\" jscontroller=\"mhFxVb\" jsdata=\"oM6qxc;CBMiQmh0dHBzOi8vd3d3Lm1vcm5pbmdzdGFyLmluL3Bvc3RzLzU3MjkyL3Jpc2stb3V0bGl2aW5nLXNhdmluZ3MuYXNweNIBAA;351\" jslog=\"85008; 2:W251bGwsbnVsbCxudWxsLG51bGwsImh0dHBzOi8vd3d3Lm1vcm5pbmdzdGFyLmluL3Bvc3RzLzU3MjkyL3Jpc2stb3V0bGl2aW5nLXNhdmluZ3MuYXNweCJd; track:click\" jsmodel=\"QWGJif hT8rr\"><a aria-hidden=\"true\" class=\"VDXfz\" href=\"./articles/CBMiQmh0dHBzOi8vd3d3Lm1vcm5pbmdzdGFyLmluL3Bvc3RzLzU3MjkyL3Jpc2stb3V0bGl2aW5nLXNhdmluZ3MuYXNweNIBAA?hl=en-IN&amp;gl=IN&amp;ceid=IN%3Aen\" jsname=\"hXwDdf\" tabindex=\"-1\" target=\"_blank\"></a><h3 class=\"ipQwMb ekueJc gEATFF RD0gLb\"><a class=\"DY5T1d\" href=\"./articles/CBMiQmh0dHBzOi8vd3d3Lm1vcm5pbmdzdGFyLmluL3Bvc3RzLzU3MjkyL3Jpc2stb3V0bGl2aW5nLXNhdmluZ3MuYXNweNIBAA?hl=en-IN&amp;gl=IN&amp;ceid=IN%3Aen\">The risk of outliving your savings</a></h3><div aria-hidden=\"true\" class=\"Da10Tb Rai5ob\" jsname=\"jVqMGc\"><span class=\"xBbh9\">I am 49. I need to work with great urgency on my retirement. I have no dependents. I work as a consultant and have around Rs 1 lakh per month to invest.</span></div><div class=\"QmrVtf RD0gLb\"><div class=\"SVJrMe\" jsname=\"Hn1wIf\"><span aria-hidden=\"true\" class=\"DPvwYc N3ElHc hEsB5d eLNT1d uQIVzc\" jsname=\"boXlNc\">amp</span><span aria-hidden=\"true\" class=\"DPvwYc N3ElHc gQtGhf eLNT1d uQIVzc\">video_youtube</span><a class=\"wEwyrc AVN2gc uQIVzc Sksgp\">Morningstar India</a><time class=\"WW6dff uQIVzc Sksgp\" datetime=\"2020-03-23T03:08:50Z\">2 days ago</time></div><menu class=\"fmkQje gXqRq\"><div class=\"OGsJDe L8PZAb R71ogd\" data-n-ca-at=\"2\" data-n-et=\"1000\" data-n-st=\"bookmark\" jsaction=\"rcuQ6b:npT2md;JIbuQc:h5M12e;eEPUnd:h5M12e;YohPuc:CE7Jad;\" jscontroller=\"j3kq0e\" jsdata=\"oM6qxc;CBMiQmh0dHBzOi8vd3d3Lm1vcm5pbmdzdGFyLmluL3Bvc3RzLzU3MjkyL3Jpc2stb3V0bGl2aW5nLXNhdmluZ3MuYXNweNIBAA;351\" jsmodel=\"Vf5Xdc\" jsname=\"ms4Zd\"><div aria-disabled=\"false\" class=\"U26fgb YOnsCc waNn5b ZqhUjb ztUP4e uUmIDd cd29Sd V3dfMc w0hkKb \" data-n-et=\"1000\" jsaction=\"click:cOuCgd; mousedown:UX7yZ; mouseup:lbsD7e; mouseenter:tfO1Yc; mouseleave:JywGue; focus:AHmuwe; blur:O22p3e; contextmenu:mg9Pef;touchstart:p6p2H; touchmove:FwuNnf; touchend:yfqBxc(preventMouseEvents=true|preventDefault=true); touchcancel:JMtRjd;;OuuAFc:UauMyf;gSufsc:BS8cLb;RyWlBb:tC9Erd;UTnG9:aDaYxb;nUyoxf:El6wk;\" jscontroller=\"nGXkff\" jsname=\"itaskb\" jsshadow=\"\" role=\"button\" tabindex=\"0\"><div class=\"XI1L0d\" jsname=\"ksKsZd\"></div><span aria-hidden=\"true\" class=\"DPvwYc ChwdAb Xd067b fAk9Qc\" jsname=\"BC5job\">bookmark_border</span></div></div><span class=\"L8PZAb uG2FLd\" data-n-ca-at=\"8\" data-n-et=\"1000\" jsaction=\"JIbuQc:RNDhHe;\" jscontroller=\"ewrQ6c\" jsdata=\"oM6qxc;CBMiQmh0dHBzOi8vd3d3Lm1vcm5pbmdzdGFyLmluL3Bvc3RzLzU3MjkyL3Jpc2stb3V0bGl2aW5nLXNhdmluZ3MuYXNweNIBAA;351\" jsmodel=\"cQe25d hECoeb\"><div aria-disabled=\"false\" aria-label=\"Share\" class=\"U26fgb YOnsCc waNn5b ZqhUjb ztUP4e uUmIDd cd29Sd V3dfMc w0hkKb \" data-n-et=\"1000\" data-tooltip=\"Share\" data-tooltip-horizontal-offset=\"0\" data-tooltip-vertical-offset=\"-12\" jsaction=\"click:cOuCgd; mousedown:UX7yZ; mouseup:lbsD7e; mouseenter:tfO1Yc; mouseleave:JywGue; focus:AHmuwe; blur:O22p3e; contextmenu:mg9Pef;touchstart:p6p2H; touchmove:FwuNnf; touchend:yfqBxc(preventMouseEvents=true|preventDefault=true); touchcancel:JMtRjd;;OuuAFc:UauMyf;gSufsc:BS8cLb;RyWlBb:tC9Erd;UTnG9:aDaYxb;nUyoxf:El6wk;\" jscontroller=\"nGXkff\" jsname=\"itaskb\" jsshadow=\"\" role=\"button\" tabindex=\"0\"><div class=\"XI1L0d\" jsname=\"ksKsZd\"></div><span aria-hidden=\"true\" class=\"DPvwYc ChwdAb Xd067b fAk9Qc\" jsname=\"BC5job\">share</span></div></span><span class=\" L8PZAb GB1Zid\" data-n-prms=\"[false,false,false,null]\" jsaction=\"rcuQ6b:npT2md;aWRkAb:u0WEMd;h4C2te:Oy8cwd;\" jscontroller=\"Md9Mid\" jsdata=\"oM6qxc;CBMiQmh0dHBzOi8vd3d3Lm1vcm5pbmdzdGFyLmluL3Bvc3RzLzU3MjkyL3Jpc2stb3V0bGl2aW5nLXNhdmluZ3MuYXNweNIBAA;351 tbf4if;ui|124+8289e50d-26f5-4899-ad87-f1bc7c30af0e,ui|124+a63ab65d-92dd-4aac-b2d4-b4ccc989389f;350\" jsmodel=\"jZ86ec Vf5Xdc\"><div aria-disabled=\"false\" aria-expanded=\"false\" aria-haspopup=\"true\" aria-label=\"More\" class=\"U26fgb YOnsCc waNn5b ZqhUjb ztUP4e uUmIDd gL67me cd29Sd V3dfMc w0hkKb \" data-dynamic=\"true\" data-tooltip=\"More\" data-tooltip-horizontal-offset=\"0\" data-tooltip-vertical-offset=\"-12\" jsaction=\"click:cOuCgd; mousedown:UX7yZ; mouseup:lbsD7e; mouseenter:tfO1Yc; mouseleave:JywGue; focus:AHmuwe; blur:O22p3e; contextmenu:mg9Pef;touchstart:p6p2H; touchmove:FwuNnf; touchend:yfqBxc(preventMouseEvents=true|preventDefault=true); touchcancel:JMtRjd;;keydown:I481le;OuuAFc:UauMyf;gSufsc:BS8cLb;RyWlBb:tC9Erd;UTnG9:aDaYxb;nUyoxf:El6wk;\" jscontroller=\"Ui93ue\" jsname=\"itaskb\" jsshadow=\"\" role=\"button\" tabindex=\"0\"><div class=\"XI1L0d\" jsname=\"ksKsZd\"></div><span aria-hidden=\"true\" class=\"DPvwYc ChwdAb Xd067b fAk9Qc\" jsname=\"BC5job\">more_vert</span></div></span></menu></div></article><div class=\"SbNwzf\" jsname=\"GNGJO\"><article class=\" MQsxIb xTewfe tXImLc R7GTQ keNKEd keNKEd dIehj EjqUne\" data-kind=\"2\" data-n-cvid=\"i419\" data-n-et=\"107\" data-n-ham=\"true\" data-n-vlb=\"0\" jsaction=\";rcuQ6b:npT2md; click:KjsqPd;EXlHgb:HQ4Dqd\" jscontroller=\"mhFxVb\" jsdata=\"oM6qxc;CAIiEGjY8HyXCHogYeQXov8ciHcqGQgEKhAIACoHCAow2pqGCzD954MDMJzyigY;352\" jslog=\"85008; 2:W251bGwsbnVsbCxudWxsLG51bGwsImh0dHBzOi8vZWNvbm9taWN0aW1lcy5pbmRpYXRpbWVzLmNvbS9tYXJrZXRzL3N0b2Nrcy9uZXdzL2Zvci1tZi1pbnZlc3RvcnMtcGhhcm1hLWlzLXRoZS1uZXctZXF1aXR5LXNhZmUtaGF2ZW4vYXJ0aWNsZXNob3cvNzQ3NjY0MTcuY21zIl0=; track:click\" jsmodel=\"QWGJif hT8rr\"><a aria-hidden=\"true\" class=\"VDXfz\" href=\"./articles/CAIiEGjY8HyXCHogYeQXov8ciHcqGQgEKhAIACoHCAow2pqGCzD954MDMJzyigY?hl=en-IN&amp;gl=IN&amp;ceid=IN%3Aen\" jsname=\"hXwDdf\" tabindex=\"-1\" target=\"_blank\"></a><h4 class=\"ipQwMb ekueJc gEATFF RD0gLb\"><a class=\"DY5T1d\" href=\"./articles/CAIiEGjY8HyXCHogYeQXov8ciHcqGQgEKhAIACoHCAow2pqGCzD954MDMJzyigY?hl=en-IN&amp;gl=IN&amp;ceid=IN%3Aen\">For mutual fund investors, pharma is the new equity safe haven</a></h4><div aria-hidden=\"true\" class=\"Da10Tb Rai5ob\" jsname=\"jVqMGc\"><span class=\"xBbh9\">Mumbai: Equity schemes focused on drug makers have been the least impacted across mutual fund categories in the recent sell-off that has resulted in the ...</span></div><div class=\"QmrVtf RD0gLb\"><div class=\"SVJrMe\" jsname=\"Hn1wIf\"><span aria-hidden=\"true\" class=\"DPvwYc N3ElHc hEsB5d eLNT1d uQIVzc\" jsname=\"boXlNc\">amp</span><span aria-hidden=\"true\" class=\"DPvwYc N3ElHc gQtGhf eLNT1d uQIVzc\">video_youtube</span><a class=\"wEwyrc AVN2gc uQIVzc Sksgp\" href=\"./publications/CAAqBwgKMNqahgsw_eeDAw?hl=en-IN&amp;gl=IN&amp;ceid=IN%3Aen\">Economic Times</a><time class=\"WW6dff uQIVzc Sksgp\" datetime=\"2020-03-23T04:14:00Z\">Yesterday</time></div><menu class=\"fmkQje gXqRq\"><div class=\"OGsJDe L8PZAb R71ogd\" data-n-ca-at=\"2\" data-n-et=\"1000\" data-n-st=\"bookmark\" jsaction=\"rcuQ6b:npT2md;JIbuQc:h5M12e;eEPUnd:h5M12e;YohPuc:CE7Jad;\" jscontroller=\"j3kq0e\" jsdata=\"oM6qxc;CAIiEGjY8HyXCHogYeQXov8ciHcqGQgEKhAIACoHCAow2pqGCzD954MDMJzyigY;352\" jsmodel=\"Vf5Xdc\" jsname=\"ms4Zd\"><div aria-disabled=\"false\" class=\"U26fgb YOnsCc waNn5b ZqhUjb ztUP4e uUmIDd cd29Sd V3dfMc w0hkKb \" data-n-et=\"1000\" jsaction=\"click:cOuCgd; mousedown:UX7yZ; mouseup:lbsD7e; mouseenter:tfO1Yc; mouseleave:JywGue; focus:AHmuwe; blur:O22p3e; contextmenu:mg9Pef;touchstart:p6p2H; touchmove:FwuNnf; touchend:yfqBxc(preventMouseEvents=true|preventDefault=true); touchcancel:JMtRjd;;OuuAFc:UauMyf;gSufsc:BS8cLb;RyWlBb:tC9Erd;UTnG9:aDaYxb;nUyoxf:El6wk;\" jscontroller=\"nGXkff\" jsname=\"itaskb\" jsshadow=\"\" role=\"button\" tabindex=\"0\"><div class=\"XI1L0d\" jsname=\"ksKsZd\"></div><span aria-hidden=\"true\" class=\"DPvwYc ChwdAb Xd067b fAk9Qc\" jsname=\"BC5job\">bookmark_border</span></div></div><span class=\"L8PZAb uG2FLd\" data-n-ca-at=\"8\" data-n-et=\"1000\" jsaction=\"JIbuQc:RNDhHe;\" jscontroller=\"ewrQ6c\" jsdata=\"oM6qxc;CAIiEGjY8HyXCHogYeQXov8ciHcqGQgEKhAIACoHCAow2pqGCzD954MDMJzyigY;352\" jsmodel=\"cQe25d hECoeb\"><div aria-disabled=\"false\" aria-label=\"Share\" class=\"U26fgb YOnsCc waNn5b ZqhUjb ztUP4e uUmIDd cd29Sd V3dfMc w0hkKb \" data-n-et=\"1000\" data-tooltip=\"Share\" data-tooltip-horizontal-offset=\"0\" data-tooltip-vertical-offset=\"-12\" jsaction=\"click:cOuCgd; mousedown:UX7yZ; mouseup:lbsD7e; mouseenter:tfO1Yc; mouseleave:JywGue; focus:AHmuwe; blur:O22p3e; contextmenu:mg9Pef;touchstart:p6p2H; touchmove:FwuNnf; touchend:yfqBxc(preventMouseEvents=true|preventDefault=true); touchcancel:JMtRjd;;OuuAFc:UauMyf;gSufsc:BS8cLb;RyWlBb:tC9Erd;UTnG9:aDaYxb;nUyoxf:El6wk;\" jscontroller=\"nGXkff\" jsname=\"itaskb\" jsshadow=\"\" role=\"button\" tabindex=\"0\"><div class=\"XI1L0d\" jsname=\"ksKsZd\"></div><span aria-hidden=\"true\" class=\"DPvwYc ChwdAb Xd067b fAk9Qc\" jsname=\"BC5job\">share</span></div></span><span class=\" L8PZAb GB1Zid\" data-n-prms=\"[false,false,false,null]\" jsaction=\"rcuQ6b:npT2md;aWRkAb:u0WEMd;h4C2te:Oy8cwd;\" jscontroller=\"Md9Mid\" jsdata=\"oM6qxc;CAIiEGjY8HyXCHogYeQXov8ciHcqGQgEKhAIACoHCAow2pqGCzD954MDMJzyigY;352 tbf4if;ui|124+8289e50d-26f5-4899-ad87-f1bc7c30af0e,ui|124+a63ab65d-92dd-4aac-b2d4-b4ccc989389f;350\" jsmodel=\"jZ86ec Vf5Xdc\"><div aria-disabled=\"false\" aria-expanded=\"false\" aria-haspopup=\"true\" aria-label=\"More\" class=\"U26fgb YOnsCc waNn5b ZqhUjb ztUP4e uUmIDd gL67me cd29Sd V3dfMc w0hkKb \" data-dynamic=\"true\" data-tooltip=\"More\" data-tooltip-horizontal-offset=\"0\" data-tooltip-vertical-offset=\"-12\" jsaction=\"click:cOuCgd; mousedown:UX7yZ; mouseup:lbsD7e; mouseenter:tfO1Yc; mouseleave:JywGue; focus:AHmuwe; blur:O22p3e; contextmenu:mg9Pef;touchstart:p6p2H; touchmove:FwuNnf; touchend:yfqBxc(preventMouseEvents=true|preventDefault=true); touchcancel:JMtRjd;;keydown:I481le;OuuAFc:UauMyf;gSufsc:BS8cLb;RyWlBb:tC9Erd;UTnG9:aDaYxb;nUyoxf:El6wk;\" jscontroller=\"Ui93ue\" jsname=\"itaskb\" jsshadow=\"\" role=\"button\" tabindex=\"0\"><div class=\"XI1L0d\" jsname=\"ksKsZd\"></div><span aria-hidden=\"true\" class=\"DPvwYc ChwdAb Xd067b fAk9Qc\" jsname=\"BC5job\">more_vert</span></div></span></menu></div></article><article class=\" MQsxIb xTewfe tXImLc R7GTQ keNKEd keNKEd dIehj EjqUne\" data-kind=\"2\" data-n-cvid=\"i420\" data-n-et=\"107\" data-n-ham=\"true\" data-n-vlb=\"0\" jsaction=\";rcuQ6b:npT2md; click:KjsqPd;EXlHgb:HQ4Dqd\" jscontroller=\"mhFxVb\" jsdata=\"oM6qxc;CAIiEBlTuwJl-0_Ru90CHPrrCSQqGAgEKg8IACoHCAow5v6PATDrwA8wr93OBg;353\" jslog=\"85008; 2:W251bGwsbnVsbCxudWxsLG51bGwsImh0dHBzOi8vd3d3LmZpcnN0cG9zdC5jb20vaGVhbHRoL2Nvcm9uYXZpcnVzLWVxdWl0eS1tdXR1YWwtZnVuZHMtZ2l2ZS0yNS1uZWdhdGl2ZS1yZXR1cm5zLXRvLWludmVzdG9ycy1vdmVyLWxhc3Qtb25lLW1vbnRoLTgxNzg0NzEuaHRtbCJd; track:click\" jsmodel=\"QWGJif hT8rr\"><a aria-hidden=\"true\" class=\"VDXfz\" href=\"./articles/CAIiEBlTuwJl-0_Ru90CHPrrCSQqGAgEKg8IACoHCAow5v6PATDrwA8wr93OBg?hl=en-IN&amp;gl=IN&amp;ceid=IN%3Aen\" jsname=\"hXwDdf\" tabindex=\"-1\" target=\"_blank\"></a><h4 class=\"ipQwMb ekueJc gEATFF RD0gLb\"><a class=\"DY5T1d\" href=\"./articles/CAIiEBlTuwJl-0_Ru90CHPrrCSQqGAgEKg8IACoHCAow5v6PATDrwA8wr93OBg?hl=en-IN&amp;gl=IN&amp;ceid=IN%3Aen\">Coronavirus: Equity mutual funds give 25% negative returns to investors over last one month</a></h4><div aria-hidden=\"true\" class=\"Da10Tb Rai5ob\" jsname=\"jVqMGc\"><span class=\"xBbh9\">Equity-oriented mutual fund schemes delivered a negative return of about 25 percent to investors over the last one month as the broader market witnessed ...</span></div><div class=\"QmrVtf RD0gLb\"><div class=\"SVJrMe\" jsname=\"Hn1wIf\"><span aria-hidden=\"true\" class=\"DPvwYc N3ElHc hEsB5d eLNT1d uQIVzc\" jsname=\"boXlNc\">amp</span><span aria-hidden=\"true\" class=\"DPvwYc N3ElHc gQtGhf eLNT1d uQIVzc\">video_youtube</span><a class=\"wEwyrc AVN2gc uQIVzc Sksgp\" href=\"./publications/CAAqBwgKMOb-jwEw68AP?hl=en-IN&amp;gl=IN&amp;ceid=IN%3Aen\">Firstpost</a><time class=\"WW6dff uQIVzc Sksgp\" datetime=\"2020-03-23T07:26:40Z\">Yesterday</time></div><menu class=\"fmkQje gXqRq\"><div class=\"OGsJDe L8PZAb R71ogd\" data-n-ca-at=\"2\" data-n-et=\"1000\" data-n-st=\"bookmark\" jsaction=\"rcuQ6b:npT2md;JIbuQc:h5M12e;eEPUnd:h5M12e;YohPuc:CE7Jad;\" jscontroller=\"j3kq0e\" jsdata=\"oM6qxc;CAIiEBlTuwJl-0_Ru90CHPrrCSQqGAgEKg8IACoHCAow5v6PATDrwA8wr93OBg;353\" jsmodel=\"Vf5Xdc\" jsname=\"ms4Zd\"><div aria-disabled=\"false\" class=\"U26fgb YOnsCc waNn5b ZqhUjb ztUP4e uUmIDd cd29Sd V3dfMc w0hkKb \" data-n-et=\"1000\" jsaction=\"click:cOuCgd; mousedown:UX7yZ; mouseup:lbsD7e; mouseenter:tfO1Yc; mouseleave:JywGue; focus:AHmuwe; blur:O22p3e; contextmenu:mg9Pef;touchstart:p6p2H; touchmove:FwuNnf; touchend:yfqBxc(preventMouseEvents=true|preventDefault=true); touchcancel:JMtRjd;;OuuAFc:UauMyf;gSufsc:BS8cLb;RyWlBb:tC9Erd;UTnG9:aDaYxb;nUyoxf:El6wk;\" jscontroller=\"nGXkff\" jsname=\"itaskb\" jsshadow=\"\" role=\"button\" tabindex=\"0\"><div class=\"XI1L0d\" jsname=\"ksKsZd\"></div><span aria-hidden=\"true\" class=\"DPvwYc ChwdAb Xd067b fAk9Qc\" jsname=\"BC5job\">bookmark_border</span></div></div><span class=\"L8PZAb uG2FLd\" data-n-ca-at=\"8\" data-n-et=\"1000\" jsaction=\"JIbuQc:RNDhHe;\" jscontroller=\"ewrQ6c\" jsdata=\"oM6qxc;CAIiEBlTuwJl-0_Ru90CHPrrCSQqGAgEKg8IACoHCAow5v6PATDrwA8wr93OBg;353\" jsmodel=\"cQe25d hECoeb\"><div aria-disabled=\"false\" aria-label=\"Share\" class=\"U26fgb YOnsCc waNn5b ZqhUjb ztUP4e uUmIDd cd29Sd V3dfMc w0hkKb \" data-n-et=\"1000\" data-tooltip=\"Share\" data-tooltip-horizontal-offset=\"0\" data-tooltip-vertical-offset=\"-12\" jsaction=\"click:cOuCgd; mousedown:UX7yZ; mouseup:lbsD7e; mouseenter:tfO1Yc; mouseleave:JywGue; focus:AHmuwe; blur:O22p3e; contextmenu:mg9Pef;touchstart:p6p2H; touchmove:FwuNnf; touchend:yfqBxc(preventMouseEvents=true|preventDefault=true); touchcancel:JMtRjd;;OuuAFc:UauMyf;gSufsc:BS8cLb;RyWlBb:tC9Erd;UTnG9:aDaYxb;nUyoxf:El6wk;\" jscontroller=\"nGXkff\" jsname=\"itaskb\" jsshadow=\"\" role=\"button\" tabindex=\"0\"><div class=\"XI1L0d\" jsname=\"ksKsZd\"></div><span aria-hidden=\"true\" class=\"DPvwYc ChwdAb Xd067b fAk9Qc\" jsname=\"BC5job\">share</span></div></span><span class=\" L8PZAb GB1Zid\" data-n-prms=\"[false,false,false,null]\" jsaction=\"rcuQ6b:npT2md;aWRkAb:u0WEMd;h4C2te:Oy8cwd;\" jscontroller=\"Md9Mid\" jsdata=\"oM6qxc;CAIiEBlTuwJl-0_Ru90CHPrrCSQqGAgEKg8IACoHCAow5v6PATDrwA8wr93OBg;353 tbf4if;ui|124+8289e50d-26f5-4899-ad87-f1bc7c30af0e,ui|124+a63ab65d-92dd-4aac-b2d4-b4ccc989389f;350\" jsmodel=\"jZ86ec Vf5Xdc\"><div aria-disabled=\"false\" aria-expanded=\"false\" aria-haspopup=\"true\" aria-label=\"More\" class=\"U26fgb YOnsCc waNn5b ZqhUjb ztUP4e uUmIDd gL67me cd29Sd V3dfMc w0hkKb \" data-dynamic=\"true\" data-tooltip=\"More\" data-tooltip-horizontal-offset=\"0\" data-tooltip-vertical-offset=\"-12\" jsaction=\"click:cOuCgd; mousedown:UX7yZ; mouseup:lbsD7e; mouseenter:tfO1Yc; mouseleave:JywGue; focus:AHmuwe; blur:O22p3e; contextmenu:mg9Pef;touchstart:p6p2H; touchmove:FwuNnf; touchend:yfqBxc(preventMouseEvents=true|preventDefault=true); touchcancel:JMtRjd;;keydown:I481le;OuuAFc:UauMyf;gSufsc:BS8cLb;RyWlBb:tC9Erd;UTnG9:aDaYxb;nUyoxf:El6wk;\" jscontroller=\"Ui93ue\" jsname=\"itaskb\" jsshadow=\"\" role=\"button\" tabindex=\"0\"><div class=\"XI1L0d\" jsname=\"ksKsZd\"></div><span aria-hidden=\"true\" class=\"DPvwYc ChwdAb Xd067b fAk9Qc\" jsname=\"BC5job\">more_vert</span></div></span></menu></div></article><article class=\" MQsxIb xTewfe tXImLc R7GTQ keNKEd keNKEd dIehj EjqUne\" data-kind=\"2\" data-n-cvid=\"i421\" data-n-et=\"107\" data-n-ham=\"true\" data-n-vlb=\"0\" jsaction=\";rcuQ6b:npT2md; click:KjsqPd;EXlHgb:HQ4Dqd\" jscontroller=\"mhFxVb\" jsdata=\"oM6qxc;CAIiEE_-SAqJ0kh78k1LdI-7oFAqGQgEKhAIACoHCAowouTcCjDl8M4BMJjvvQY;354\" jslog=\"85008; 2:W251bGwsbnVsbCxudWxsLG51bGwsImh0dHBzOi8vd3d3LmJ1c2luZXNzdG9kYXkuaW4vbWFya2V0cy9tYXJrZXQtcGVyc3BlY3RpdmUvZXF1aXR5LW11dHVhbC1mdW5kcy1zY2hlbWVzLWdpdmUtbmVnYXRpdmUtcmV0dXJucy10by1pbnZlc3RvcnMtYW1pZC1jb3JvbmF2aXJ1cy1zY2FyZS9zdG9yeS8zOTg5NDQuaHRtbCJd; track:click\" jsmodel=\"QWGJif hT8rr\"><a aria-hidden=\"true\" class=\"VDXfz\" href=\"./articles/CAIiEE_-SAqJ0kh78k1LdI-7oFAqGQgEKhAIACoHCAowouTcCjDl8M4BMJjvvQY?hl=en-IN&amp;gl=IN&amp;ceid=IN%3Aen\" jsname=\"hXwDdf\" tabindex=\"-1\" target=\"_blank\"></a><h4 class=\"ipQwMb ekueJc gEATFF RD0gLb\"><a class=\"DY5T1d\" href=\"./articles/CAIiEE_-SAqJ0kh78k1LdI-7oFAqGQgEKhAIACoHCAowouTcCjDl8M4BMJjvvQY?hl=en-IN&amp;gl=IN&amp;ceid=IN%3Aen\">Equity mutual funds schemes give negative returns to investors amid coronavirus scare</a></h4><div aria-hidden=\"true\" class=\"Da10Tb Rai5ob\" jsname=\"jVqMGc\"><span class=\"xBbh9\">Equity-oriented mutual fund schemes delivered a negative return of about 25 per cent to investors over the last one month as the broader market witnessed ...</span></div><div class=\"QmrVtf RD0gLb\"><div class=\"SVJrMe\" jsname=\"Hn1wIf\"><span aria-hidden=\"true\" class=\"DPvwYc N3ElHc hEsB5d eLNT1d uQIVzc\" jsname=\"boXlNc\">amp</span><span aria-hidden=\"true\" class=\"DPvwYc N3ElHc gQtGhf eLNT1d uQIVzc\">video_youtube</span><a class=\"wEwyrc AVN2gc uQIVzc Sksgp\" href=\"./publications/CAAqBwgKMKLk3Aow5fDOAQ?hl=en-IN&amp;gl=IN&amp;ceid=IN%3Aen\">Business Today</a><time class=\"WW6dff uQIVzc Sksgp\" datetime=\"2020-03-23T05:28:34Z\">Yesterday</time></div><menu class=\"fmkQje gXqRq\"><div class=\"OGsJDe L8PZAb R71ogd\" data-n-ca-at=\"2\" data-n-et=\"1000\" data-n-st=\"bookmark\" jsaction=\"rcuQ6b:npT2md;JIbuQc:h5M12e;eEPUnd:h5M12e;YohPuc:CE7Jad;\" jscontroller=\"j3kq0e\" jsdata=\"oM6qxc;CAIiEE_-SAqJ0kh78k1LdI-7oFAqGQgEKhAIACoHCAowouTcCjDl8M4BMJjvvQY;354\" jsmodel=\"Vf5Xdc\" jsname=\"ms4Zd\"><div aria-disabled=\"false\" class=\"U26fgb YOnsCc waNn5b ZqhUjb ztUP4e uUmIDd cd29Sd V3dfMc w0hkKb \" data-n-et=\"1000\" jsaction=\"click:cOuCgd; mousedown:UX7yZ; mouseup:lbsD7e; mouseenter:tfO1Yc; mouseleave:JywGue; focus:AHmuwe; blur:O22p3e; contextmenu:mg9Pef;touchstart:p6p2H; touchmove:FwuNnf; touchend:yfqBxc(preventMouseEvents=true|preventDefault=true); touchcancel:JMtRjd;;OuuAFc:UauMyf;gSufsc:BS8cLb;RyWlBb:tC9Erd;UTnG9:aDaYxb;nUyoxf:El6wk;\" jscontroller=\"nGXkff\" jsname=\"itaskb\" jsshadow=\"\" role=\"button\" tabindex=\"0\"><div class=\"XI1L0d\" jsname=\"ksKsZd\"></div><span aria-hidden=\"true\" class=\"DPvwYc ChwdAb Xd067b fAk9Qc\" jsname=\"BC5job\">bookmark_border</span></div></div><span class=\"L8PZAb uG2FLd\" data-n-ca-at=\"8\" data-n-et=\"1000\" jsaction=\"JIbuQc:RNDhHe;\" jscontroller=\"ewrQ6c\" jsdata=\"oM6qxc;CAIiEE_-SAqJ0kh78k1LdI-7oFAqGQgEKhAIACoHCAowouTcCjDl8M4BMJjvvQY;354\" jsmodel=\"cQe25d hECoeb\"><div aria-disabled=\"false\" aria-label=\"Share\" class=\"U26fgb YOnsCc waNn5b ZqhUjb ztUP4e uUmIDd cd29Sd V3dfMc w0hkKb \" data-n-et=\"1000\" data-tooltip=\"Share\" data-tooltip-horizontal-offset=\"0\" data-tooltip-vertical-offset=\"-12\" jsaction=\"click:cOuCgd; mousedown:UX7yZ; mouseup:lbsD7e; mouseenter:tfO1Yc; mouseleave:JywGue; focus:AHmuwe; blur:O22p3e; contextmenu:mg9Pef;touchstart:p6p2H; touchmove:FwuNnf; touchend:yfqBxc(preventMouseEvents=true|preventDefault=true); touchcancel:JMtRjd;;OuuAFc:UauMyf;gSufsc:BS8cLb;RyWlBb:tC9Erd;UTnG9:aDaYxb;nUyoxf:El6wk;\" jscontroller=\"nGXkff\" jsname=\"itaskb\" jsshadow=\"\" role=\"button\" tabindex=\"0\"><div class=\"XI1L0d\" jsname=\"ksKsZd\"></div><span aria-hidden=\"true\" class=\"DPvwYc ChwdAb Xd067b fAk9Qc\" jsname=\"BC5job\">share</span></div></span><span class=\" L8PZAb GB1Zid\" data-n-prms=\"[false,false,false,null]\" jsaction=\"rcuQ6b:npT2md;aWRkAb:u0WEMd;h4C2te:Oy8cwd;\" jscontroller=\"Md9Mid\" jsdata=\"oM6qxc;CAIiEE_-SAqJ0kh78k1LdI-7oFAqGQgEKhAIACoHCAowouTcCjDl8M4BMJjvvQY;354 tbf4if;ui|124+8289e50d-26f5-4899-ad87-f1bc7c30af0e,ui|124+a63ab65d-92dd-4aac-b2d4-b4ccc989389f;350\" jsmodel=\"jZ86ec Vf5Xdc\"><div aria-disabled=\"false\" aria-expanded=\"false\" aria-haspopup=\"true\" aria-label=\"More\" class=\"U26fgb YOnsCc waNn5b ZqhUjb ztUP4e uUmIDd gL67me cd29Sd V3dfMc w0hkKb \" data-dynamic=\"true\" data-tooltip=\"More\" data-tooltip-horizontal-offset=\"0\" data-tooltip-vertical-offset=\"-12\" jsaction=\"click:cOuCgd; mousedown:UX7yZ; mouseup:lbsD7e; mouseenter:tfO1Yc; mouseleave:JywGue; focus:AHmuwe; blur:O22p3e; contextmenu:mg9Pef;touchstart:p6p2H; touchmove:FwuNnf; touchend:yfqBxc(preventMouseEvents=true|preventDefault=true); touchcancel:JMtRjd;;keydown:I481le;OuuAFc:UauMyf;gSufsc:BS8cLb;RyWlBb:tC9Erd;UTnG9:aDaYxb;nUyoxf:El6wk;\" jscontroller=\"Ui93ue\" jsname=\"itaskb\" jsshadow=\"\" role=\"button\" tabindex=\"0\"><div class=\"XI1L0d\" jsname=\"ksKsZd\"></div><span aria-hidden=\"true\" class=\"DPvwYc ChwdAb Xd067b fAk9Qc\" jsname=\"BC5job\">more_vert</span></div></span></menu></div></article><article class=\" MQsxIb xTewfe tXImLc R7GTQ keNKEd keNKEd dIehj EjqUne\" data-kind=\"13\" data-n-cvid=\"i422\" data-n-et=\"107\" data-n-ham=\"true\" data-n-vlb=\"0\" jsaction=\";rcuQ6b:npT2md; click:KjsqPd;EXlHgb:HQ4Dqd\" jscontroller=\"mhFxVb\" jsdata=\"oM6qxc;CBMiowFodHRwczovL2Vjb25vbWljdGltZXMuaW5kaWF0aW1lcy5jb20vd2VhbHRoL2ludmVzdC9teS1wcGYtYWNjb3VudC13aWxsLW1hdHVyZS1vbi1tYXJjaC0zMS13aGVyZS1jYW4taS1pbnZlc3QtdGhpcy1tb25leS1mb3ItdGhlLXNob3J0LXRlcm0vYXJ0aWNsZXNob3cvNzQ3NzI4NjIuY21z0gGeAWh0dHBzOi8vbS5lY29ub21pY3RpbWVzLmNvbS93ZWFsdGgvaW52ZXN0L215LXBwZi1hY2NvdW50LXdpbGwtbWF0dXJlLW9uLW1hcmNoLTMxLXdoZXJlLWNhbi1pLWludmVzdC10aGlzLW1vbmV5LWZvci10aGUtc2hvcnQtdGVybS9hbXBfYXJ0aWNsZXNob3cvNzQ3NzI4NjIuY21z;355\" jslog=\"85008; 2:W251bGwsbnVsbCxudWxsLG51bGwsImh0dHBzOi8vZWNvbm9taWN0aW1lcy5pbmRpYXRpbWVzLmNvbS93ZWFsdGgvaW52ZXN0L215LXBwZi1hY2NvdW50LXdpbGwtbWF0dXJlLW9uLW1hcmNoLTMxLXdoZXJlLWNhbi1pLWludmVzdC10aGlzLW1vbmV5LWZvci10aGUtc2hvcnQtdGVybS9hcnRpY2xlc2hvdy83NDc3Mjg2Mi5jbXMiXQ==; track:click\" jsmodel=\"QWGJif hT8rr\"><a aria-hidden=\"true\" class=\"VDXfz\" href=\"./articles/CBMiowFodHRwczovL2Vjb25vbWljdGltZXMuaW5kaWF0aW1lcy5jb20vd2VhbHRoL2ludmVzdC9teS1wcGYtYWNjb3VudC13aWxsLW1hdHVyZS1vbi1tYXJjaC0zMS13aGVyZS1jYW4taS1pbnZlc3QtdGhpcy1tb25leS1mb3ItdGhlLXNob3J0LXRlcm0vYXJ0aWNsZXNob3cvNzQ3NzI4NjIuY21z0gGeAWh0dHBzOi8vbS5lY29ub21pY3RpbWVzLmNvbS93ZWFsdGgvaW52ZXN0L215LXBwZi1hY2NvdW50LXdpbGwtbWF0dXJlLW9uLW1hcmNoLTMxLXdoZXJlLWNhbi1pLWludmVzdC10aGlzLW1vbmV5LWZvci10aGUtc2hvcnQtdGVybS9hbXBfYXJ0aWNsZXNob3cvNzQ3NzI4NjIuY21z?hl=en-IN&amp;gl=IN&amp;ceid=IN%3Aen\" jsname=\"hXwDdf\" tabindex=\"-1\" target=\"_blank\"></a><h4 class=\"ipQwMb ekueJc gEATFF RD0gLb\"><a class=\"DY5T1d\" href=\"./articles/CBMiowFodHRwczovL2Vjb25vbWljdGltZXMuaW5kaWF0aW1lcy5jb20vd2VhbHRoL2ludmVzdC9teS1wcGYtYWNjb3VudC13aWxsLW1hdHVyZS1vbi1tYXJjaC0zMS13aGVyZS1jYW4taS1pbnZlc3QtdGhpcy1tb25leS1mb3ItdGhlLXNob3J0LXRlcm0vYXJ0aWNsZXNob3cvNzQ3NzI4NjIuY21z0gGeAWh0dHBzOi8vbS5lY29ub21pY3RpbWVzLmNvbS93ZWFsdGgvaW52ZXN0L215LXBwZi1hY2NvdW50LXdpbGwtbWF0dXJlLW9uLW1hcmNoLTMxLXdoZXJlLWNhbi1pLWludmVzdC10aGlzLW1vbmV5LWZvci10aGUtc2hvcnQtdGVybS9hbXBfYXJ0aWNsZXNob3cvNzQ3NzI4NjIuY21z?hl=en-IN&amp;gl=IN&amp;ceid=IN%3Aen\">My PPF account will mature on March 31. Where can I invest this money for the short term?</a></h4><div aria-hidden=\"true\" class=\"Da10Tb Rai5ob\" jsname=\"jVqMGc\"><span class=\"xBbh9\">I am 68 and still working. I have some investments in bank FDs and mutual funds that can take care of my expenditure after retirement. My PPF account is ...</span></div><div class=\"QmrVtf RD0gLb\"><div class=\"SVJrMe\" jsname=\"Hn1wIf\"><span aria-hidden=\"true\" class=\"DPvwYc N3ElHc hEsB5d eLNT1d uQIVzc\" jsname=\"boXlNc\">amp</span><span aria-hidden=\"true\" class=\"DPvwYc N3ElHc gQtGhf eLNT1d uQIVzc\">video_youtube</span><a class=\"wEwyrc AVN2gc uQIVzc Sksgp\">Economic Times</a><time class=\"WW6dff uQIVzc Sksgp\" datetime=\"2020-03-24T03:57:00Z\">Yesterday</time></div><menu class=\"fmkQje gXqRq\"><div class=\"OGsJDe L8PZAb R71ogd\" data-n-ca-at=\"2\" data-n-et=\"1000\" data-n-st=\"bookmark\" jsaction=\"rcuQ6b:npT2md;JIbuQc:h5M12e;eEPUnd:h5M12e;YohPuc:CE7Jad;\" jscontroller=\"j3kq0e\" jsdata=\"oM6qxc;CBMiowFodHRwczovL2Vjb25vbWljdGltZXMuaW5kaWF0aW1lcy5jb20vd2VhbHRoL2ludmVzdC9teS1wcGYtYWNjb3VudC13aWxsLW1hdHVyZS1vbi1tYXJjaC0zMS13aGVyZS1jYW4taS1pbnZlc3QtdGhpcy1tb25leS1mb3ItdGhlLXNob3J0LXRlcm0vYXJ0aWNsZXNob3cvNzQ3NzI4NjIuY21z0gGeAWh0dHBzOi8vbS5lY29ub21pY3RpbWVzLmNvbS93ZWFsdGgvaW52ZXN0L215LXBwZi1hY2NvdW50LXdpbGwtbWF0dXJlLW9uLW1hcmNoLTMxLXdoZXJlLWNhbi1pLWludmVzdC10aGlzLW1vbmV5LWZvci10aGUtc2hvcnQtdGVybS9hbXBfYXJ0aWNsZXNob3cvNzQ3NzI4NjIuY21z;355\" jsmodel=\"Vf5Xdc\" jsname=\"ms4Zd\"><div aria-disabled=\"false\" class=\"U26fgb YOnsCc waNn5b ZqhUjb ztUP4e uUmIDd cd29Sd V3dfMc w0hkKb \" data-n-et=\"1000\" jsaction=\"click:cOuCgd; mousedown:UX7yZ; mouseup:lbsD7e; mouseenter:tfO1Yc; mouseleave:JywGue; focus:AHmuwe; blur:O22p3e; contextmenu:mg9Pef;touchstart:p6p2H; touchmove:FwuNnf; touchend:yfqBxc(preventMouseEvents=true|preventDefault=true); touchcancel:JMtRjd;;OuuAFc:UauMyf;gSufsc:BS8cLb;RyWlBb:tC9Erd;UTnG9:aDaYxb;nUyoxf:El6wk;\" jscontroller=\"nGXkff\" jsname=\"itaskb\" jsshadow=\"\" role=\"button\" tabindex=\"0\"><div class=\"XI1L0d\" jsname=\"ksKsZd\"></div><span aria-hidden=\"true\" class=\"DPvwYc ChwdAb Xd067b fAk9Qc\" jsname=\"BC5job\">bookmark_border</span></div></div><span class=\"L8PZAb uG2FLd\" data-n-ca-at=\"8\" data-n-et=\"1000\" jsaction=\"JIbuQc:RNDhHe;\" jscontroller=\"ewrQ6c\" jsdata=\"oM6qxc;CBMiowFodHRwczovL2Vjb25vbWljdGltZXMuaW5kaWF0aW1lcy5jb20vd2VhbHRoL2ludmVzdC9teS1wcGYtYWNjb3VudC13aWxsLW1hdHVyZS1vbi1tYXJjaC0zMS13aGVyZS1jYW4taS1pbnZlc3QtdGhpcy1tb25leS1mb3ItdGhlLXNob3J0LXRlcm0vYXJ0aWNsZXNob3cvNzQ3NzI4NjIuY21z0gGeAWh0dHBzOi8vbS5lY29ub21pY3RpbWVzLmNvbS93ZWFsdGgvaW52ZXN0L215LXBwZi1hY2NvdW50LXdpbGwtbWF0dXJlLW9uLW1hcmNoLTMxLXdoZXJlLWNhbi1pLWludmVzdC10aGlzLW1vbmV5LWZvci10aGUtc2hvcnQtdGVybS9hbXBfYXJ0aWNsZXNob3cvNzQ3NzI4NjIuY21z;355\" jsmodel=\"cQe25d hECoeb\"><div aria-disabled=\"false\" aria-label=\"Share\" class=\"U26fgb YOnsCc waNn5b ZqhUjb ztUP4e uUmIDd cd29Sd V3dfMc w0hkKb \" data-n-et=\"1000\" data-tooltip=\"Share\" data-tooltip-horizontal-offset=\"0\" data-tooltip-vertical-offset=\"-12\" jsaction=\"click:cOuCgd; mousedown:UX7yZ; mouseup:lbsD7e; mouseenter:tfO1Yc; mouseleave:JywGue; focus:AHmuwe; blur:O22p3e; contextmenu:mg9Pef;touchstart:p6p2H; touchmove:FwuNnf; touchend:yfqBxc(preventMouseEvents=true|preventDefault=true); touchcancel:JMtRjd;;OuuAFc:UauMyf;gSufsc:BS8cLb;RyWlBb:tC9Erd;UTnG9:aDaYxb;nUyoxf:El6wk;\" jscontroller=\"nGXkff\" jsname=\"itaskb\" jsshadow=\"\" role=\"button\" tabindex=\"0\"><div class=\"XI1L0d\" jsname=\"ksKsZd\"></div><span aria-hidden=\"true\" class=\"DPvwYc ChwdAb Xd067b fAk9Qc\" jsname=\"BC5job\">share</span></div></span><span class=\" L8PZAb GB1Zid\" data-n-prms=\"[false,false,false,null]\" jsaction=\"rcuQ6b:npT2md;aWRkAb:u0WEMd;h4C2te:Oy8cwd;\" jscontroller=\"Md9Mid\" jsdata=\"oM6qxc;CBMiowFodHRwczovL2Vjb25vbWljdGltZXMuaW5kaWF0aW1lcy5jb20vd2VhbHRoL2ludmVzdC9teS1wcGYtYWNjb3VudC13aWxsLW1hdHVyZS1vbi1tYXJjaC0zMS13aGVyZS1jYW4taS1pbnZlc3QtdGhpcy1tb25leS1mb3ItdGhlLXNob3J0LXRlcm0vYXJ0aWNsZXNob3cvNzQ3NzI4NjIuY21z0gGeAWh0dHBzOi8vbS5lY29ub21pY3RpbWVzLmNvbS93ZWFsdGgvaW52ZXN0L215LXBwZi1hY2NvdW50LXdpbGwtbWF0dXJlLW9uLW1hcmNoLTMxLXdoZXJlLWNhbi1pLWludmVzdC10aGlzLW1vbmV5LWZvci10aGUtc2hvcnQtdGVybS9hbXBfYXJ0aWNsZXNob3cvNzQ3NzI4NjIuY21z;355 tbf4if;ui|124+8289e50d-26f5-4899-ad87-f1bc7c30af0e,ui|124+a63ab65d-92dd-4aac-b2d4-b4ccc989389f;350\" jsmodel=\"jZ86ec Vf5Xdc\"><div aria-disabled=\"false\" aria-expanded=\"false\" aria-haspopup=\"true\" aria-label=\"More\" class=\"U26fgb YOnsCc waNn5b ZqhUjb ztUP4e uUmIDd gL67me cd29Sd V3dfMc w0hkKb \" data-dynamic=\"true\" data-tooltip=\"More\" data-tooltip-horizontal-offset=\"0\" data-tooltip-vertical-offset=\"-12\" jsaction=\"click:cOuCgd; mousedown:UX7yZ; mouseup:lbsD7e; mouseenter:tfO1Yc; mouseleave:JywGue; focus:AHmuwe; blur:O22p3e; contextmenu:mg9Pef;touchstart:p6p2H; touchmove:FwuNnf; touchend:yfqBxc(preventMouseEvents=true|preventDefault=true); touchcancel:JMtRjd;;keydown:I481le;OuuAFc:UauMyf;gSufsc:BS8cLb;RyWlBb:tC9Erd;UTnG9:aDaYxb;nUyoxf:El6wk;\" jscontroller=\"Ui93ue\" jsname=\"itaskb\" jsshadow=\"\" role=\"button\" tabindex=\"0\"><div class=\"XI1L0d\" jsname=\"ksKsZd\"></div><span aria-hidden=\"true\" class=\"DPvwYc ChwdAb Xd067b fAk9Qc\" jsname=\"BC5job\">more_vert</span></div></span></menu></div></article></div><div class=\"pn1wK\"><span data-n-ca-at=\"1\" data-n-ci-wu=\"./stories/CAAqOQgKIjNDQklTSURvSmMzUnZjbmt0TXpZd1NoTUtFUWl1cTg2dWo0QU1FZThYU3RUSjE0a2FLQUFQAQ?hl=en-IN&amp;gl=IN&amp;ceid=IN%3Aen\" data-n-et=\"1026\" jsaction=\"click:KjsqPd\" jscontroller=\"LRWJIf\" jslog=\" 91637 \"><div aria-disabled=\"false\" class=\"U26fgb YOnsCc waNn5b\" data-n-et=\"1026\" jsaction=\"click:cOuCgd; mousedown:UX7yZ; mouseup:lbsD7e; mouseenter:tfO1Yc; mouseleave:JywGue; focus:AHmuwe; blur:O22p3e; contextmenu:mg9Pef;;OuuAFc:UauMyf;gSufsc:BS8cLb;RyWlBb:tC9Erd;UTnG9:aDaYxb;nUyoxf:El6wk;\" jscontroller=\"nGXkff\" jsname=\"itaskb\" jsshadow=\"\" role=\"presentation\"><a class=\"FKF6mc TpQm9d ZqhUjb ztUP4e tHCKTc kTeh9 cd29Sd dHeVVb lSLCF Xcw0p \" href=\"./stories/CAAqOQgKIjNDQklTSURvSmMzUnZjbmt0TXpZd1NoTUtFUWl1cTg2dWo0QU1FZThYU3RUSjE0a2FLQUFQAQ?hl=en-IN&amp;gl=IN&amp;ceid=IN%3Aen\"><div class=\"XI1L0d\" jsname=\"ksKsZd\"></div><img alt=\"\" class=\"ChwdAb aTzV9b gq1Z8c\" src=\"https://lh3.googleusercontent.com/JDFOyo903E9WGstK0YhI2ZFOKR3h4qDxBngX5M8XJVBZFKzOBoxLmk3OVlgNw9SOE-HfkNgb=w32\"/><span class=\"iDvCIf xfudi\">View Full coverage</span></a></div></span><div aria-disabled=\"false\" aria-label=\"Show more articles for this story\" class=\"U26fgb YOnsCc waNn5b ZqhUjb ztUP4e tHCKTc cd29Sd w0hkKb naBZYc \" data-n-et=\"1000\" jsaction=\"click:cOuCgd; mousedown:UX7yZ; mouseup:lbsD7e; mouseenter:tfO1Yc; mouseleave:JywGue; focus:AHmuwe; blur:O22p3e; contextmenu:mg9Pef;touchstart:p6p2H; touchmove:FwuNnf; touchend:yfqBxc(preventMouseEvents=true|preventDefault=true); touchcancel:JMtRjd;;OuuAFc:UauMyf;gSufsc:BS8cLb;RyWlBb:tC9Erd;UTnG9:aDaYxb;nUyoxf:El6wk;\" jscontroller=\"nGXkff\" jsname=\"tS5qmb\" jsshadow=\"\" role=\"button\" tabindex=\"0\"><div class=\"XI1L0d\" jsname=\"ksKsZd\"></div><span aria-hidden=\"true\" class=\"DPvwYc ChwdAb Xd067b fAk9Qc\" jsname=\"BC5job\">keyboard_arrow_up</span></div></div></div>"
            ]
          },
          "metadata": {
            "tags": []
          },
          "execution_count": 182
        }
      ]
    },
    {
      "cell_type": "code",
      "metadata": {
        "id": "UfFuQmnZ7VW-",
        "colab_type": "code",
        "outputId": "2cfb7f5f-6284-406d-85f9-789a1cc45e66",
        "colab": {
          "base_uri": "https://localhost:8080/",
          "height": 54
        }
      },
      "source": [
        "first_result = results[0]\n",
        "first_result\n",
        "results[0].text"
      ],
      "execution_count": 280,
      "outputs": [
        {
          "output_type": "execute_result",
          "data": {
            "text/plain": [
              "\"D-Street Buzz: IT, pharma stocks outshine led by Infosys, Aurobindo Pharma; RIL jumps 5%All sectoral indices are trading in the green with IT and the pharma sectors jumping over 4 percent each.ampvideo_youtubeMoneycontrol.com2 hours agobookmark_bordersharemore_vertIn biggest market crash ever, Sensex collapses about 4,000 points in a dayIndian stock markets today suffered its biggest one-day selloff as several states went into lockdown to curb the spread of coronavirus cases in the country.ampvideo_youtubeLivemintYesterdaybookmark_bordersharemore_vertMarkets Live: Sensex off day's high, still up 300 points; IndusInd Bank bleeds 11%Watch this space as we bring you LIVE updates of the day's proceedings from Dalal Street.ampvideo_youtubeEconomic Times5 hours agobookmark_bordersharemore_vertTurbulent Tuesday: Sensex gives up gains after rallying over 1,400 points, Nifty below 7,000Indian equity market indices on Tuesday surged in the pre-opening session as BSE Sensex rallied by 1,450 points while Nifty also surged over 300 points.ampvideo_youtubeIndia Today5 hours agobookmark_bordersharemore_vertSensex recovers over 1,400 points after biggest ever market crashEquity benchmark Sensex recovered over 1400 points in opening session on Tuesday tracking gains in Asian peers after US Federal Reserve announced ...ampvideo_youtubeThe News Minute4 hours agobookmark_bordersharemore_vertView Full coveragekeyboard_arrow_up\""
            ]
          },
          "metadata": {
            "tags": []
          },
          "execution_count": 280
        }
      ]
    },
    {
      "cell_type": "code",
      "metadata": {
        "id": "IZX8GUtB834P",
        "colab_type": "code",
        "colab": {}
      },
      "source": [
        "main_records = []\n",
        "for tr in results:\n",
        "  link_t = tr.find_all('a',attrs={'class':'DY5T1d'})\n",
        "  title = link_t[0].text\n",
        "  link_s = tr.find_all('span',attrs={'class':'xBbh9'})\n",
        "  summary = link_s[0].text\n",
        "  link_L = tr.find_all('a')\n",
        "  link = link_L[0]['href']\n",
        "  link_d = tr.find_all('time')\n",
        "  time = link_d[0]['datetime']\n",
        "  main_records.append((link,title,summary,time))"
      ],
      "execution_count": 0,
      "outputs": []
    },
    {
      "cell_type": "code",
      "metadata": {
        "id": "nBnClnKwSrTA",
        "colab_type": "code",
        "outputId": "752c759f-5721-4288-8b82-15ec690e1718",
        "colab": {
          "base_uri": "https://localhost:8080/",
          "height": 34
        }
      },
      "source": [
        ""
      ],
      "execution_count": 364,
      "outputs": [
        {
          "output_type": "execute_result",
          "data": {
            "text/plain": [
              "'2020-03-24 4:01:00'"
            ]
          },
          "metadata": {
            "tags": []
          },
          "execution_count": 364
        }
      ]
    },
    {
      "cell_type": "code",
      "metadata": {
        "id": "9J7W-HrJ831m",
        "colab_type": "code",
        "outputId": "fadc91c2-7077-4102-f6b4-2ac8a39ceb96",
        "colab": {
          "base_uri": "https://localhost:8080/",
          "height": 34
        }
      },
      "source": [
        "len(main_records)"
      ],
      "execution_count": 306,
      "outputs": [
        {
          "output_type": "execute_result",
          "data": {
            "text/plain": [
              "57"
            ]
          },
          "metadata": {
            "tags": []
          },
          "execution_count": 306
        }
      ]
    },
    {
      "cell_type": "code",
      "metadata": {
        "id": "mq3V78Sh83zC",
        "colab_type": "code",
        "outputId": "a5749383-6dc6-45b1-a1cd-62021fb02016",
        "colab": {
          "base_uri": "https://localhost:8080/",
          "height": 238
        }
      },
      "source": [
        "main_records[0:3]"
      ],
      "execution_count": 367,
      "outputs": [
        {
          "output_type": "execute_result",
          "data": {
            "text/plain": [
              "[('./articles/CBMikwFodHRwczovL3d3dy5tb25leWNvbnRyb2wuY29tL25ld3MvYnVzaW5lc3MvbWFya2V0cy9kLXN0cmVldC1idXp6LWl0LXBoYXJtYS1zdG9ja3Mtb3V0c2hpbmUtbGVkLWJ5LWluZm9zeXMtYXVyb2JpbmRvLXBoYXJtYS1yaWwtanVtcHMtNS01MDY1OTIxLmh0bWzSAZcBaHR0cHM6Ly93d3cubW9uZXljb250cm9sLmNvbS9uZXdzL2J1c2luZXNzL21hcmtldHMvZC1zdHJlZXQtYnV6ei1pdC1waGFybWEtc3RvY2tzLW91dHNoaW5lLWxlZC1ieS1pbmZvc3lzLWF1cm9iaW5kby1waGFybWEtcmlsLWp1bXBzLTUtNTA2NTkyMS5odG1sL2FtcA?hl=en-IN&gl=IN&ceid=IN%3Aen',\n",
              "  'D-Street Buzz: IT, pharma stocks outshine led by Infosys, Aurobindo Pharma; RIL jumps 5%',\n",
              "  'All sectoral indices are trading in the green with IT and the pharma sectors jumping over 4 percent each.',\n",
              "  '2020-03-24T07:02:00Z'),\n",
              " ('./articles/CBMihAFodHRwczovL3d3dy5tb25leWNvbnRyb2wuY29tL25ld3MvYnVzaW5lc3Mvc3RvY2tzL2luZm9zeXMtc2hhcmUtcHJpY2UtcmFsbGllcy0xMC1vbi1zZWMtYWxsLWNsZWFyLWluLXdoaXN0bGVibG93ZXItY2FzZS01MDY1ODIxLmh0bWzSAYgBaHR0cHM6Ly93d3cubW9uZXljb250cm9sLmNvbS9uZXdzL2J1c2luZXNzL3N0b2Nrcy9pbmZvc3lzLXNoYXJlLXByaWNlLXJhbGxpZXMtMTAtb24tc2VjLWFsbC1jbGVhci1pbi13aGlzdGxlYmxvd2VyLWNhc2UtNTA2NTgyMS5odG1sL2FtcA?hl=en-IN&gl=IN&ceid=IN%3Aen',\n",
              "  'Infosys share price rallies 10% on SEC all clear in whistleblower case',\n",
              "  'Infosys share price rallied 10 percent intraday on March 24 after the US Securities and Exchanges Commission (SEC) gave a clean chit to the Indian company in ...',\n",
              "  '2020-03-24T06:32:00Z'),\n",
              " ('./articles/CAIiECASEw-gC1Fqw8wsJ276v1UqGQgEKhAIACoHCAow2pqGCzD954MDMJzyigY?hl=en-IN&gl=IN&ceid=IN%3Aen',\n",
              "  'Gold rate today leapfrogs on risk aversion, global cues',\n",
              "  'Gold futures were up 0.75 per cent or Rs 476 to Rs 41639 per 10 grams.',\n",
              "  '2020-03-24T03:49:21Z')]"
            ]
          },
          "metadata": {
            "tags": []
          },
          "execution_count": 367
        }
      ]
    },
    {
      "cell_type": "code",
      "metadata": {
        "id": "MFc28e6Q83xU",
        "colab_type": "code",
        "colab": {}
      },
      "source": [
        "import pandas as pd\n",
        "df = pd.DataFrame(main_records, columns=['Link','Title', 'Summary','Date'])"
      ],
      "execution_count": 0,
      "outputs": []
    },
    {
      "cell_type": "code",
      "metadata": {
        "id": "FiXgVgn2JCQq",
        "colab_type": "code",
        "colab": {}
      },
      "source": [
        "df['Date'] = pd.to_datetime(df['Date'])"
      ],
      "execution_count": 0,
      "outputs": []
    },
    {
      "cell_type": "code",
      "metadata": {
        "id": "J6ur_Irh83rz",
        "colab_type": "code",
        "outputId": "34547d90-0a68-46e1-8a37-b50a580beeb3",
        "colab": {
          "base_uri": "https://localhost:8080/",
          "height": 195
        }
      },
      "source": [
        "df.head()"
      ],
      "execution_count": 370,
      "outputs": [
        {
          "output_type": "execute_result",
          "data": {
            "text/html": [
              "<div>\n",
              "<style scoped>\n",
              "    .dataframe tbody tr th:only-of-type {\n",
              "        vertical-align: middle;\n",
              "    }\n",
              "\n",
              "    .dataframe tbody tr th {\n",
              "        vertical-align: top;\n",
              "    }\n",
              "\n",
              "    .dataframe thead th {\n",
              "        text-align: right;\n",
              "    }\n",
              "</style>\n",
              "<table border=\"1\" class=\"dataframe\">\n",
              "  <thead>\n",
              "    <tr style=\"text-align: right;\">\n",
              "      <th></th>\n",
              "      <th>Link</th>\n",
              "      <th>Title</th>\n",
              "      <th>Summary</th>\n",
              "      <th>Date</th>\n",
              "    </tr>\n",
              "  </thead>\n",
              "  <tbody>\n",
              "    <tr>\n",
              "      <th>0</th>\n",
              "      <td>./articles/CBMikwFodHRwczovL3d3dy5tb25leWNvbnR...</td>\n",
              "      <td>D-Street Buzz: IT, pharma stocks outshine led ...</td>\n",
              "      <td>All sectoral indices are trading in the green ...</td>\n",
              "      <td>2020-03-24 07:02:00+00:00</td>\n",
              "    </tr>\n",
              "    <tr>\n",
              "      <th>1</th>\n",
              "      <td>./articles/CBMihAFodHRwczovL3d3dy5tb25leWNvbnR...</td>\n",
              "      <td>Infosys share price rallies 10% on SEC all cle...</td>\n",
              "      <td>Infosys share price rallied 10 percent intrada...</td>\n",
              "      <td>2020-03-24 06:32:00+00:00</td>\n",
              "    </tr>\n",
              "    <tr>\n",
              "      <th>2</th>\n",
              "      <td>./articles/CAIiECASEw-gC1Fqw8wsJ276v1UqGQgEKhA...</td>\n",
              "      <td>Gold rate today leapfrogs on risk aversion, gl...</td>\n",
              "      <td>Gold futures were up 0.75 per cent or Rs 476 t...</td>\n",
              "      <td>2020-03-24 03:49:21+00:00</td>\n",
              "    </tr>\n",
              "    <tr>\n",
              "      <th>3</th>\n",
              "      <td>./articles/CBMidmh0dHBzOi8vd3d3LmxpdmVtaW50LmN...</td>\n",
              "      <td>Rupee rises against US dollar, a day after hit...</td>\n",
              "      <td>The rupee today gained against the US dollar t...</td>\n",
              "      <td>2020-03-24 03:36:45+00:00</td>\n",
              "    </tr>\n",
              "    <tr>\n",
              "      <th>4</th>\n",
              "      <td>./articles/CAIiELeGUEvNkBbMh8-S6OGkgucqFwgEKg8...</td>\n",
              "      <td>Coronavirus Outbreak: SEBI eases compliance re...</td>\n",
              "      <td>New Delhi: In a bid to reduce compliance burde...</td>\n",
              "      <td>2020-03-24 05:43:29+00:00</td>\n",
              "    </tr>\n",
              "  </tbody>\n",
              "</table>\n",
              "</div>"
            ],
            "text/plain": [
              "                                                Link  ...                      Date\n",
              "0  ./articles/CBMikwFodHRwczovL3d3dy5tb25leWNvbnR...  ... 2020-03-24 07:02:00+00:00\n",
              "1  ./articles/CBMihAFodHRwczovL3d3dy5tb25leWNvbnR...  ... 2020-03-24 06:32:00+00:00\n",
              "2  ./articles/CAIiECASEw-gC1Fqw8wsJ276v1UqGQgEKhA...  ... 2020-03-24 03:49:21+00:00\n",
              "3  ./articles/CBMidmh0dHBzOi8vd3d3LmxpdmVtaW50LmN...  ... 2020-03-24 03:36:45+00:00\n",
              "4  ./articles/CAIiELeGUEvNkBbMh8-S6OGkgucqFwgEKg8...  ... 2020-03-24 05:43:29+00:00\n",
              "\n",
              "[5 rows x 4 columns]"
            ]
          },
          "metadata": {
            "tags": []
          },
          "execution_count": 370
        }
      ]
    },
    {
      "cell_type": "code",
      "metadata": {
        "id": "0mekF0sh83gv",
        "colab_type": "code",
        "outputId": "366cddb0-041d-4569-bd26-fd74a5b4cf48",
        "colab": {
          "base_uri": "https://localhost:8080/",
          "height": 195
        }
      },
      "source": [
        "df.tail()"
      ],
      "execution_count": 371,
      "outputs": [
        {
          "output_type": "execute_result",
          "data": {
            "text/html": [
              "<div>\n",
              "<style scoped>\n",
              "    .dataframe tbody tr th:only-of-type {\n",
              "        vertical-align: middle;\n",
              "    }\n",
              "\n",
              "    .dataframe tbody tr th {\n",
              "        vertical-align: top;\n",
              "    }\n",
              "\n",
              "    .dataframe thead th {\n",
              "        text-align: right;\n",
              "    }\n",
              "</style>\n",
              "<table border=\"1\" class=\"dataframe\">\n",
              "  <thead>\n",
              "    <tr style=\"text-align: right;\">\n",
              "      <th></th>\n",
              "      <th>Link</th>\n",
              "      <th>Title</th>\n",
              "      <th>Summary</th>\n",
              "      <th>Date</th>\n",
              "    </tr>\n",
              "  </thead>\n",
              "  <tbody>\n",
              "    <tr>\n",
              "      <th>52</th>\n",
              "      <td>./articles/CBMiN2h0dHBzOi8vc2ltcGxlZmx5aW5nLmN...</td>\n",
              "      <td>WOW: Singapore Airlines Reduces Fleet To Just ...</td>\n",
              "      <td>Singapore Airlines is down to operating just n...</td>\n",
              "      <td>2020-03-23 12:11:23+00:00</td>\n",
              "    </tr>\n",
              "    <tr>\n",
              "      <th>53</th>\n",
              "      <td>./articles/CBMigQFodHRwczovL3d3dy50aGVuZXdzbWl...</td>\n",
              "      <td>Dettol, ITC, Godrej and others reduce hand san...</td>\n",
              "      <td>FMCG companies have reduced the prices of hand...</td>\n",
              "      <td>2020-03-23 07:54:31+00:00</td>\n",
              "    </tr>\n",
              "    <tr>\n",
              "      <th>54</th>\n",
              "      <td>./articles/CAIiEH-rbaPJkHXOpLGnTSFKULMqGQgEKhA...</td>\n",
              "      <td>HUL To Acquire VWash From Glenmark Pharma</td>\n",
              "      <td>Hindustan Unilever Ltd. agreed to acquire an i...</td>\n",
              "      <td>2020-03-23 12:59:18+00:00</td>\n",
              "    </tr>\n",
              "    <tr>\n",
              "      <th>55</th>\n",
              "      <td>./articles/CBMidmh0dHBzOi8vd3d3LnBlb3BsZW1hdHR...</td>\n",
              "      <td>M&amp;M Chairman Anand Mahindra to offer 100% sala...</td>\n",
              "      <td>Anand Mahindra, the Chairman of Mahindra &amp; Mah...</td>\n",
              "      <td>2020-03-23 02:48:45+00:00</td>\n",
              "    </tr>\n",
              "    <tr>\n",
              "      <th>56</th>\n",
              "      <td>./articles/CBMisAFodHRwczovL2Vjb25vbWljdGltZXM...</td>\n",
              "      <td>Covid 19: As cities go for lockdown, out of no...</td>\n",
              "      <td>Zoom has been preparing for this moment since ...</td>\n",
              "      <td>2020-03-24 04:01:00+00:00</td>\n",
              "    </tr>\n",
              "  </tbody>\n",
              "</table>\n",
              "</div>"
            ],
            "text/plain": [
              "                                                 Link  ...                      Date\n",
              "52  ./articles/CBMiN2h0dHBzOi8vc2ltcGxlZmx5aW5nLmN...  ... 2020-03-23 12:11:23+00:00\n",
              "53  ./articles/CBMigQFodHRwczovL3d3dy50aGVuZXdzbWl...  ... 2020-03-23 07:54:31+00:00\n",
              "54  ./articles/CAIiEH-rbaPJkHXOpLGnTSFKULMqGQgEKhA...  ... 2020-03-23 12:59:18+00:00\n",
              "55  ./articles/CBMidmh0dHBzOi8vd3d3LnBlb3BsZW1hdHR...  ... 2020-03-23 02:48:45+00:00\n",
              "56  ./articles/CBMisAFodHRwczovL2Vjb25vbWljdGltZXM...  ... 2020-03-24 04:01:00+00:00\n",
              "\n",
              "[5 rows x 4 columns]"
            ]
          },
          "metadata": {
            "tags": []
          },
          "execution_count": 371
        }
      ]
    },
    {
      "cell_type": "code",
      "metadata": {
        "id": "fN0XMwVL83SB",
        "colab_type": "code",
        "colab": {}
      },
      "source": [
        "df.to_csv('main_news.csv', index=False, encoding='utf-8')"
      ],
      "execution_count": 0,
      "outputs": []
    },
    {
      "cell_type": "code",
      "metadata": {
        "id": "L1FuOXvKfaK5",
        "colab_type": "code",
        "colab": {}
      },
      "source": [
        "df.to_excel('main_news.xlsx', index=False, encoding='utf-8')"
      ],
      "execution_count": 0,
      "outputs": []
    },
    {
      "cell_type": "code",
      "metadata": {
        "id": "c60YTSpKnU3q",
        "colab_type": "code",
        "colab": {}
      },
      "source": [
        "df = pd.read_csv('main_news.csv')"
      ],
      "execution_count": 0,
      "outputs": []
    },
    {
      "cell_type": "code",
      "metadata": {
        "id": "2BvYhk6CoSZL",
        "colab_type": "code",
        "outputId": "b797746e-5581-40ef-cb14-3ab7f222a3ef",
        "colab": {
          "base_uri": "https://localhost:8080/",
          "height": 402
        }
      },
      "source": [
        "df"
      ],
      "execution_count": 250,
      "outputs": [
        {
          "output_type": "execute_result",
          "data": {
            "text/html": [
              "<div>\n",
              "<style scoped>\n",
              "    .dataframe tbody tr th:only-of-type {\n",
              "        vertical-align: middle;\n",
              "    }\n",
              "\n",
              "    .dataframe tbody tr th {\n",
              "        vertical-align: top;\n",
              "    }\n",
              "\n",
              "    .dataframe thead th {\n",
              "        text-align: right;\n",
              "    }\n",
              "</style>\n",
              "<table border=\"1\" class=\"dataframe\">\n",
              "  <thead>\n",
              "    <tr style=\"text-align: right;\">\n",
              "      <th></th>\n",
              "      <th>link</th>\n",
              "      <th>title</th>\n",
              "      <th>Summary</th>\n",
              "    </tr>\n",
              "  </thead>\n",
              "  <tbody>\n",
              "    <tr>\n",
              "      <th>0</th>\n",
              "      <td>./articles/CAIiEKcOIG6641Zqx7_uyM3Me4MqGQgEKhA...</td>\n",
              "      <td>Turbulent Tuesday: Sensex gives up gains after...</td>\n",
              "      <td>Indian equity market indices on Tuesday surged...</td>\n",
              "    </tr>\n",
              "    <tr>\n",
              "      <th>1</th>\n",
              "      <td>./articles/CAIiEKcOIG6641Zqx7_uyM3Me4MqGQgEKhA...</td>\n",
              "      <td>Rupee rises against US dollar, a day after hit...</td>\n",
              "      <td>The rupee today gained against the US dollar t...</td>\n",
              "    </tr>\n",
              "    <tr>\n",
              "      <th>2</th>\n",
              "      <td>./articles/CAIiEKcOIG6641Zqx7_uyM3Me4MqGQgEKhA...</td>\n",
              "      <td>Reliance Jio offers free internet; Airtel, Vod...</td>\n",
              "      <td>Mukesh Ambani's Reliance Jio, Bharti Airtel, a...</td>\n",
              "    </tr>\n",
              "    <tr>\n",
              "      <th>3</th>\n",
              "      <td>./articles/CAIiEKcOIG6641Zqx7_uyM3Me4MqGQgEKhA...</td>\n",
              "      <td>Gold rate today leapfrogs on risk aversion, gl...</td>\n",
              "      <td>Gold futures were up 0.75 per cent or Rs 476 t...</td>\n",
              "    </tr>\n",
              "    <tr>\n",
              "      <th>4</th>\n",
              "      <td>./articles/CAIiEKcOIG6641Zqx7_uyM3Me4MqGQgEKhA...</td>\n",
              "      <td>Increased Working Capital Demand, Loan Collect...</td>\n",
              "      <td>Lockdown In India: Banks are bracing for a dec...</td>\n",
              "    </tr>\n",
              "    <tr>\n",
              "      <th>...</th>\n",
              "      <td>...</td>\n",
              "      <td>...</td>\n",
              "      <td>...</td>\n",
              "    </tr>\n",
              "    <tr>\n",
              "      <th>56</th>\n",
              "      <td>./articles/CAIiEKcOIG6641Zqx7_uyM3Me4MqGQgEKhA...</td>\n",
              "      <td>India lays out US$6b roadmap to boost electron...</td>\n",
              "      <td>NEW DELHI: India's cabinet has approved a 480 ...</td>\n",
              "    </tr>\n",
              "    <tr>\n",
              "      <th>57</th>\n",
              "      <td>./articles/CAIiEKcOIG6641Zqx7_uyM3Me4MqGQgEKhA...</td>\n",
              "      <td>Ashok Leyland stock sinks 7.62%</td>\n",
              "      <td>New Delhi: Early Monday, Sensex hit lower circ...</td>\n",
              "    </tr>\n",
              "    <tr>\n",
              "      <th>58</th>\n",
              "      <td>./articles/CAIiEKcOIG6641Zqx7_uyM3Me4MqGQgEKhA...</td>\n",
              "      <td>Xiaomi hopes to sell in India despite coronavi...</td>\n",
              "      <td>Xiaomi is finding ways to stay open for busine...</td>\n",
              "    </tr>\n",
              "    <tr>\n",
              "      <th>59</th>\n",
              "      <td>./articles/CAIiEKcOIG6641Zqx7_uyM3Me4MqGQgEKhA...</td>\n",
              "      <td>Coronavirus pandemic |Why this may be the wors...</td>\n",
              "      <td>If not sold before April 1, the stock of BS4 v...</td>\n",
              "    </tr>\n",
              "    <tr>\n",
              "      <th>60</th>\n",
              "      <td>./articles/CAIiEKcOIG6641Zqx7_uyM3Me4MqGQgEKhA...</td>\n",
              "      <td>The risk of outliving your savings</td>\n",
              "      <td>I am 49. I need to work with great urgency on ...</td>\n",
              "    </tr>\n",
              "  </tbody>\n",
              "</table>\n",
              "<p>61 rows × 3 columns</p>\n",
              "</div>"
            ],
            "text/plain": [
              "                                                 link  ...                                            Summary\n",
              "0   ./articles/CAIiEKcOIG6641Zqx7_uyM3Me4MqGQgEKhA...  ...  Indian equity market indices on Tuesday surged...\n",
              "1   ./articles/CAIiEKcOIG6641Zqx7_uyM3Me4MqGQgEKhA...  ...  The rupee today gained against the US dollar t...\n",
              "2   ./articles/CAIiEKcOIG6641Zqx7_uyM3Me4MqGQgEKhA...  ...  Mukesh Ambani's Reliance Jio, Bharti Airtel, a...\n",
              "3   ./articles/CAIiEKcOIG6641Zqx7_uyM3Me4MqGQgEKhA...  ...  Gold futures were up 0.75 per cent or Rs 476 t...\n",
              "4   ./articles/CAIiEKcOIG6641Zqx7_uyM3Me4MqGQgEKhA...  ...  Lockdown In India: Banks are bracing for a dec...\n",
              "..                                                ...  ...                                                ...\n",
              "56  ./articles/CAIiEKcOIG6641Zqx7_uyM3Me4MqGQgEKhA...  ...  NEW DELHI: India's cabinet has approved a 480 ...\n",
              "57  ./articles/CAIiEKcOIG6641Zqx7_uyM3Me4MqGQgEKhA...  ...  New Delhi: Early Monday, Sensex hit lower circ...\n",
              "58  ./articles/CAIiEKcOIG6641Zqx7_uyM3Me4MqGQgEKhA...  ...  Xiaomi is finding ways to stay open for busine...\n",
              "59  ./articles/CAIiEKcOIG6641Zqx7_uyM3Me4MqGQgEKhA...  ...  If not sold before April 1, the stock of BS4 v...\n",
              "60  ./articles/CAIiEKcOIG6641Zqx7_uyM3Me4MqGQgEKhA...  ...  I am 49. I need to work with great urgency on ...\n",
              "\n",
              "[61 rows x 3 columns]"
            ]
          },
          "metadata": {
            "tags": []
          },
          "execution_count": 250
        }
      ]
    },
    {
      "cell_type": "code",
      "metadata": {
        "id": "Coie2AFw6nP7",
        "colab_type": "code",
        "colab": {}
      },
      "source": [
        ""
      ],
      "execution_count": 0,
      "outputs": []
    }
  ]
}