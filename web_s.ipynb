{
  "nbformat": 4,
  "nbformat_minor": 0,
  "metadata": {
    "colab": {
      "name": "web-s.ipynb",
      "provenance": [],
      "collapsed_sections": [],
      "authorship_tag": "ABX9TyOTExfh1VaJrKzr1krprVwO",
      "include_colab_link": true
    },
    "kernelspec": {
      "name": "python3",
      "display_name": "Python 3"
    }
  },
  "cells": [
    {
      "cell_type": "markdown",
      "metadata": {
        "id": "view-in-github",
        "colab_type": "text"
      },
      "source": [
        "<a href=\"https://colab.research.google.com/github/AyanabhaBatabyal/ayan0314/blob/master/web_s.ipynb\" target=\"_parent\"><img src=\"https://colab.research.google.com/assets/colab-badge.svg\" alt=\"Open In Colab\"/></a>"
      ]
    },
    {
      "cell_type": "code",
      "metadata": {
        "id": "Zv-16cjVk_5c",
        "colab_type": "code",
        "colab": {}
      },
      "source": [
        "!pip3 install newspaper3k"
      ],
      "execution_count": 0,
      "outputs": []
    },
    {
      "cell_type": "code",
      "metadata": {
        "id": "RJXGj3UtkjUF",
        "colab_type": "code",
        "colab": {}
      },
      "source": [
        "import requests\n",
        "r = requests.get('https://news.google.com/topics/CAAqJggKIiBDQkFTRWdvSUwyMHZNRGx6TVdZU0FtVnVHZ0pKVGlnQVAB?hl=en-IN&gl=IN&ceid=IN%3Aen')"
      ],
      "execution_count": 0,
      "outputs": []
    },
    {
      "cell_type": "code",
      "metadata": {
        "id": "p0Shi-QL5N7O",
        "colab_type": "code",
        "colab": {}
      },
      "source": [
        "from bs4 import BeautifulSoup\n",
        "soup = BeautifulSoup(r.text, 'html.parser')"
      ],
      "execution_count": 0,
      "outputs": []
    },
    {
      "cell_type": "code",
      "metadata": {
        "id": "khO6iPou5rLN",
        "colab_type": "code",
        "colab": {}
      },
      "source": [
        "results = soup.find_all('div', attrs={'class':'xrnccd F6Welf R7GTQ keNKEd j7vNaf'})"
      ],
      "execution_count": 0,
      "outputs": []
    },
    {
      "cell_type": "code",
      "metadata": {
        "id": "4MVbv7SO6OB6",
        "colab_type": "code",
        "outputId": "fc7a4467-b9a4-4ec8-f283-dacabdbaf1e1",
        "colab": {
          "base_uri": "https://localhost:8080/",
          "height": 34
        }
      },
      "source": [
        "len(results)"
      ],
      "execution_count": 472,
      "outputs": [
        {
          "output_type": "execute_result",
          "data": {
            "text/plain": [
              "58"
            ]
          },
          "metadata": {
            "tags": []
          },
          "execution_count": 472
        }
      ]
    },
    {
      "cell_type": "code",
      "metadata": {
        "id": "UfFuQmnZ7VW-",
        "colab_type": "code",
        "outputId": "4adcf3db-28b3-4c49-e9a3-811228d8eee9",
        "colab": {
          "base_uri": "https://localhost:8080/",
          "height": 54
        }
      },
      "source": [
        "first_result = results[0]\n",
        "first_result\n",
        "results[0].text"
      ],
      "execution_count": 475,
      "outputs": [
        {
          "output_type": "execute_result",
          "data": {
            "text/plain": [
              "\"Sensex surges 693 pts, Nifty above 7,800; what drove the market rally?Here's a look at the key factors that lifted the market on Tuesday.ampvideo_youtubeEconomic Times2 hours agobookmark_bordersharemore_vertClosing Bell: Nifty ends above 7,800, Sensex up 692 pts as FM announces relief measures for corporatesThe Sensex ended 692.79 points higher at 26674.03, while Nifty added 190.80 points to close at 7801.05.ampvideo_youtubeMoneycontrol.com5 minutes agobookmark_bordersharemore_vertSensex, Nifty hold gains as investors pin hope to govt's fiscal packageIndian equity markets managed to hold decent gains, after rising as much as 5% intraday. Key indices were volatile in opening trade, but traded higher later in ...ampvideo_youtubeLivemintYesterdaybookmark_bordersharemore_vertSensex recovers over 1,400 points after biggest ever market crashEquity benchmark Sensex recovered over 1400 points in opening session on Tuesday tracking gains in Asian peers after US Federal Reserve announced ...ampvideo_youtubeThe News Minute5 hours agobookmark_bordersharemore_vertD-Street Buzz: IT, pharma stocks outshine led by Infosys, Aurobindo Pharma; RIL jumps 5%All sectoral indices are trading in the green with IT and the pharma sectors jumping over 4 percent each.ampvideo_youtubeMoneycontrol.com4 hours agobookmark_bordersharemore_vertView Full coveragekeyboard_arrow_up\""
            ]
          },
          "metadata": {
            "tags": []
          },
          "execution_count": 475
        }
      ]
    },
    {
      "cell_type": "code",
      "metadata": {
        "id": "IZX8GUtB834P",
        "colab_type": "code",
        "colab": {}
      },
      "source": [
        "main_records = []\n",
        "for tr in results:\n",
        "  link_t = tr.find_all('a',attrs={'class':'DY5T1d'})\n",
        "  title = link_t[0].text\n",
        "  link_s = tr.find_all('span',attrs={'class':'xBbh9'})\n",
        "  summary = link_s[0].text\n",
        "  link_L = tr.find_all('a')\n",
        "  link = link_L[0]['href']\n",
        "  link_d = tr.find_all('time')\n",
        "  time = link_d[0]['datetime'][0:19]\n",
        "  main_records.append((link,title,summary,time))"
      ],
      "execution_count": 0,
      "outputs": []
    },
    {
      "cell_type": "code",
      "metadata": {
        "id": "9J7W-HrJ831m",
        "colab_type": "code",
        "outputId": "9f0a7094-c24a-4971-da43-acc7ed4c6f1f",
        "colab": {
          "base_uri": "https://localhost:8080/",
          "height": 34
        }
      },
      "source": [
        "len(main_records)"
      ],
      "execution_count": 477,
      "outputs": [
        {
          "output_type": "execute_result",
          "data": {
            "text/plain": [
              "58"
            ]
          },
          "metadata": {
            "tags": []
          },
          "execution_count": 477
        }
      ]
    },
    {
      "cell_type": "code",
      "metadata": {
        "id": "mq3V78Sh83zC",
        "colab_type": "code",
        "outputId": "a9490f86-b6fe-482b-8741-1a130488d986",
        "colab": {
          "base_uri": "https://localhost:8080/",
          "height": 238
        }
      },
      "source": [
        "main_records[0:3]"
      ],
      "execution_count": 478,
      "outputs": [
        {
          "output_type": "execute_result",
          "data": {
            "text/plain": [
              "[('./articles/CBMilAFodHRwczovL2Vjb25vbWljdGltZXMuaW5kaWF0aW1lcy5jb20vbWFya2V0cy9zdG9ja3MvbmV3cy9zZW5zZXgtc3VyZ2VzLTEwMDAtcHRzLW5pZnR5LWFib3ZlLTc4MDAtd2hhdHMtZHJpdmluZy1tYXJrZXQtcmFsbHkvYXJ0aWNsZXNob3cvNzQ3OTAzMTEuY21z0gGPAWh0dHBzOi8vbS5lY29ub21pY3RpbWVzLmNvbS9tYXJrZXRzL3N0b2Nrcy9uZXdzL3NlbnNleC1zdXJnZXMtMTAwMC1wdHMtbmlmdHktYWJvdmUtNzgwMC13aGF0cy1kcml2aW5nLW1hcmtldC1yYWxseS9hbXBfYXJ0aWNsZXNob3cvNzQ3OTAzMTEuY21z?hl=en-IN&gl=IN&ceid=IN%3Aen',\n",
              "  'Sensex surges 693 pts, Nifty above 7,800; what drove the market rally?',\n",
              "  \"Here's a look at the key factors that lifted the market on Tuesday.\",\n",
              "  '2020-03-24T08:50:00'),\n",
              " ('./articles/CBMihAFodHRwczovL3d3dy5tb25leWNvbnRyb2wuY29tL25ld3MvYnVzaW5lc3Mvc3RvY2tzL2luZm9zeXMtc2hhcmUtcHJpY2UtcmFsbGllcy0xMC1vbi1zZWMtYWxsLWNsZWFyLWluLXdoaXN0bGVibG93ZXItY2FzZS01MDY1ODIxLmh0bWzSAYgBaHR0cHM6Ly93d3cubW9uZXljb250cm9sLmNvbS9uZXdzL2J1c2luZXNzL3N0b2Nrcy9pbmZvc3lzLXNoYXJlLXByaWNlLXJhbGxpZXMtMTAtb24tc2VjLWFsbC1jbGVhci1pbi13aGlzdGxlYmxvd2VyLWNhc2UtNTA2NTgyMS5odG1sL2FtcA?hl=en-IN&gl=IN&ceid=IN%3Aen',\n",
              "  'Infosys share price rallies 10% on SEC all clear in whistleblower case',\n",
              "  'Infosys share price rallied 10 percent intraday on March 24 after the US Securities and Exchanges Commission (SEC) gave a clean chit to the Indian company in ...',\n",
              "  '2020-03-24T06:32:00'),\n",
              " ('./articles/CAIiEFz0mbA5LXI-MeZR6UcrM08qGQgEKhAIACoHCAowot7cCjD8xM4BMK7khgI?hl=en-IN&gl=IN&ceid=IN%3Aen',\n",
              "  'No salary deduction during domestic flights suspension period, IndiGo tells staff',\n",
              "  'Budget carrier IndiGo has assured its employees that it will not make any deduction in their salaries or leaves due to the suspension of domestic flights till March ...',\n",
              "  '2020-03-24T10:00:14')]"
            ]
          },
          "metadata": {
            "tags": []
          },
          "execution_count": 478
        }
      ]
    },
    {
      "cell_type": "code",
      "metadata": {
        "id": "MFc28e6Q83xU",
        "colab_type": "code",
        "colab": {}
      },
      "source": [
        "import pandas as pd\n",
        "df = pd.DataFrame(main_records, columns=['Link','Title', 'Summary','Date'])"
      ],
      "execution_count": 0,
      "outputs": []
    },
    {
      "cell_type": "code",
      "metadata": {
        "id": "FiXgVgn2JCQq",
        "colab_type": "code",
        "colab": {}
      },
      "source": [
        "df['Date'] = pd.to_datetime(df['Date'])"
      ],
      "execution_count": 0,
      "outputs": []
    },
    {
      "cell_type": "code",
      "metadata": {
        "id": "J6ur_Irh83rz",
        "colab_type": "code",
        "outputId": "5207d227-c62d-4e89-9f50-d750c84d7bad",
        "colab": {
          "base_uri": "https://localhost:8080/",
          "height": 195
        }
      },
      "source": [
        "df.head()"
      ],
      "execution_count": 465,
      "outputs": [
        {
          "output_type": "execute_result",
          "data": {
            "text/html": [
              "<div>\n",
              "<style scoped>\n",
              "    .dataframe tbody tr th:only-of-type {\n",
              "        vertical-align: middle;\n",
              "    }\n",
              "\n",
              "    .dataframe tbody tr th {\n",
              "        vertical-align: top;\n",
              "    }\n",
              "\n",
              "    .dataframe thead th {\n",
              "        text-align: right;\n",
              "    }\n",
              "</style>\n",
              "<table border=\"1\" class=\"dataframe\">\n",
              "  <thead>\n",
              "    <tr style=\"text-align: right;\">\n",
              "      <th></th>\n",
              "      <th>Link</th>\n",
              "      <th>Title</th>\n",
              "      <th>Summary</th>\n",
              "      <th>Date</th>\n",
              "    </tr>\n",
              "  </thead>\n",
              "  <tbody>\n",
              "    <tr>\n",
              "      <th>0</th>\n",
              "      <td>./articles/CAIiEFhyF8JgQ8VFMjQu7tbUHYMqFwgEKg8...</td>\n",
              "      <td>Stock Markets LIVE Updates: Markets rebound, e...</td>\n",
              "      <td>Equity benchmark indices failed to retain the ...</td>\n",
              "      <td>2020-03-24 10:36:02</td>\n",
              "    </tr>\n",
              "    <tr>\n",
              "      <th>1</th>\n",
              "      <td>./articles/CBMihAFodHRwczovL3d3dy5tb25leWNvbnR...</td>\n",
              "      <td>Infosys share price rallies 10% on SEC all cle...</td>\n",
              "      <td>Infosys share price rallied 10 percent intrada...</td>\n",
              "      <td>2020-03-24 06:32:00</td>\n",
              "    </tr>\n",
              "    <tr>\n",
              "      <th>2</th>\n",
              "      <td>./articles/CAIiECASEw-gC1Fqw8wsJ276v1UqGQgEKhA...</td>\n",
              "      <td>Gold rate today leapfrogs on risk aversion, gl...</td>\n",
              "      <td>Gold futures were up 0.75 per cent or Rs 476 t...</td>\n",
              "      <td>2020-03-24 10:10:00</td>\n",
              "    </tr>\n",
              "    <tr>\n",
              "      <th>3</th>\n",
              "      <td>./articles/CBMidmh0dHBzOi8vd3d3LmxpdmVtaW50LmN...</td>\n",
              "      <td>Rupee rises against US dollar, a day after hit...</td>\n",
              "      <td>The rupee today gained against the US dollar t...</td>\n",
              "      <td>2020-03-24 03:36:45</td>\n",
              "    </tr>\n",
              "    <tr>\n",
              "      <th>4</th>\n",
              "      <td>./articles/CAIiEKdsQhfkWakmmC5AVeaiNckqGQgEKhA...</td>\n",
              "      <td>Reliance Jio offers free internet; Airtel, Vod...</td>\n",
              "      <td>Mukesh Ambani's Reliance Jio, Bharti Airtel, a...</td>\n",
              "      <td>2020-03-24 05:55:57</td>\n",
              "    </tr>\n",
              "  </tbody>\n",
              "</table>\n",
              "</div>"
            ],
            "text/plain": [
              "                                                Link  ...                Date\n",
              "0  ./articles/CAIiEFhyF8JgQ8VFMjQu7tbUHYMqFwgEKg8...  ... 2020-03-24 10:36:02\n",
              "1  ./articles/CBMihAFodHRwczovL3d3dy5tb25leWNvbnR...  ... 2020-03-24 06:32:00\n",
              "2  ./articles/CAIiECASEw-gC1Fqw8wsJ276v1UqGQgEKhA...  ... 2020-03-24 10:10:00\n",
              "3  ./articles/CBMidmh0dHBzOi8vd3d3LmxpdmVtaW50LmN...  ... 2020-03-24 03:36:45\n",
              "4  ./articles/CAIiEKdsQhfkWakmmC5AVeaiNckqGQgEKhA...  ... 2020-03-24 05:55:57\n",
              "\n",
              "[5 rows x 4 columns]"
            ]
          },
          "metadata": {
            "tags": []
          },
          "execution_count": 465
        }
      ]
    },
    {
      "cell_type": "code",
      "metadata": {
        "id": "0mekF0sh83gv",
        "colab_type": "code",
        "outputId": "242a7ddd-e078-48bc-afbf-a8fe5a06349d",
        "colab": {
          "base_uri": "https://localhost:8080/",
          "height": 195
        }
      },
      "source": [
        "df.tail()"
      ],
      "execution_count": 481,
      "outputs": [
        {
          "output_type": "execute_result",
          "data": {
            "text/html": [
              "<div>\n",
              "<style scoped>\n",
              "    .dataframe tbody tr th:only-of-type {\n",
              "        vertical-align: middle;\n",
              "    }\n",
              "\n",
              "    .dataframe tbody tr th {\n",
              "        vertical-align: top;\n",
              "    }\n",
              "\n",
              "    .dataframe thead th {\n",
              "        text-align: right;\n",
              "    }\n",
              "</style>\n",
              "<table border=\"1\" class=\"dataframe\">\n",
              "  <thead>\n",
              "    <tr style=\"text-align: right;\">\n",
              "      <th></th>\n",
              "      <th>Link</th>\n",
              "      <th>Title</th>\n",
              "      <th>Summary</th>\n",
              "      <th>Date</th>\n",
              "    </tr>\n",
              "  </thead>\n",
              "  <tbody>\n",
              "    <tr>\n",
              "      <th>53</th>\n",
              "      <td>./articles/CAIiED1091b105lnufONlGdcWHEqGQgEKhA...</td>\n",
              "      <td>Emirates Airline Retracts Decision to Halt Pas...</td>\n",
              "      <td>Dubai carrier Emirates reversed on Sunday its ...</td>\n",
              "      <td>2020-03-23 14:19:06</td>\n",
              "    </tr>\n",
              "    <tr>\n",
              "      <th>54</th>\n",
              "      <td>./articles/CAIiEFlcMtuz4ardM9PFoz5G988qGQgEKhA...</td>\n",
              "      <td>Singapore Airlines cuts capacity by 96%; groun...</td>\n",
              "      <td>Singapore Airlines announced on March 23 that ...</td>\n",
              "      <td>2020-03-23 08:22:06</td>\n",
              "    </tr>\n",
              "    <tr>\n",
              "      <th>55</th>\n",
              "      <td>./articles/CBMid2h0dHBzOi8vdGhlcHJpbnQuaW4vaGV...</td>\n",
              "      <td>‘Experimental’ drug that failed to cure ebola ...</td>\n",
              "      <td>New Delhi: A drug that was presented and then ...</td>\n",
              "      <td>2020-03-24 03:31:39</td>\n",
              "    </tr>\n",
              "    <tr>\n",
              "      <th>56</th>\n",
              "      <td>./articles/CAIiELpX5dnnj0tAnLqgcBreykwqGQgEKhA...</td>\n",
              "      <td>This is what your 'coronavirus search' on Goog...</td>\n",
              "      <td>NEW DELHI: Internet search giant Google's dedi...</td>\n",
              "      <td>2020-03-23 03:48:19</td>\n",
              "    </tr>\n",
              "    <tr>\n",
              "      <th>57</th>\n",
              "      <td>./articles/CBMiigFodHRwczovL3d3dy5saXZlbWludC5...</td>\n",
              "      <td>Stocks to Watch: SBI, Dr Reddy's, Jubilant Foo...</td>\n",
              "      <td>SBI has made payment of yearly interest to bon...</td>\n",
              "      <td>2020-03-24 02:37:55</td>\n",
              "    </tr>\n",
              "  </tbody>\n",
              "</table>\n",
              "</div>"
            ],
            "text/plain": [
              "                                                 Link  ...                Date\n",
              "53  ./articles/CAIiED1091b105lnufONlGdcWHEqGQgEKhA...  ... 2020-03-23 14:19:06\n",
              "54  ./articles/CAIiEFlcMtuz4ardM9PFoz5G988qGQgEKhA...  ... 2020-03-23 08:22:06\n",
              "55  ./articles/CBMid2h0dHBzOi8vdGhlcHJpbnQuaW4vaGV...  ... 2020-03-24 03:31:39\n",
              "56  ./articles/CAIiELpX5dnnj0tAnLqgcBreykwqGQgEKhA...  ... 2020-03-23 03:48:19\n",
              "57  ./articles/CBMiigFodHRwczovL3d3dy5saXZlbWludC5...  ... 2020-03-24 02:37:55\n",
              "\n",
              "[5 rows x 4 columns]"
            ]
          },
          "metadata": {
            "tags": []
          },
          "execution_count": 481
        }
      ]
    },
    {
      "cell_type": "code",
      "metadata": {
        "id": "fN0XMwVL83SB",
        "colab_type": "code",
        "colab": {}
      },
      "source": [
        "df.to_csv('main_news.csv', index=False, encoding='utf-8')"
      ],
      "execution_count": 0,
      "outputs": []
    },
    {
      "cell_type": "code",
      "metadata": {
        "id": "L1FuOXvKfaK5",
        "colab_type": "code",
        "colab": {}
      },
      "source": [
        "df.to_excel('main_news.xlsx', encoding='utf-8')"
      ],
      "execution_count": 0,
      "outputs": []
    },
    {
      "cell_type": "code",
      "metadata": {
        "id": "GKRBlmeaRgVK",
        "colab_type": "code",
        "colab": {
          "base_uri": "https://localhost:8080/",
          "height": 1000
        },
        "outputId": "910c173b-8fef-4d4b-af57-e9f4597b712c"
      },
      "source": [
        "df"
      ],
      "execution_count": 484,
      "outputs": [
        {
          "output_type": "execute_result",
          "data": {
            "text/html": [
              "<div>\n",
              "<style scoped>\n",
              "    .dataframe tbody tr th:only-of-type {\n",
              "        vertical-align: middle;\n",
              "    }\n",
              "\n",
              "    .dataframe tbody tr th {\n",
              "        vertical-align: top;\n",
              "    }\n",
              "\n",
              "    .dataframe thead th {\n",
              "        text-align: right;\n",
              "    }\n",
              "</style>\n",
              "<table border=\"1\" class=\"dataframe\">\n",
              "  <thead>\n",
              "    <tr style=\"text-align: right;\">\n",
              "      <th></th>\n",
              "      <th>Link</th>\n",
              "      <th>Title</th>\n",
              "      <th>Summary</th>\n",
              "      <th>Date</th>\n",
              "    </tr>\n",
              "  </thead>\n",
              "  <tbody>\n",
              "    <tr>\n",
              "      <th>0</th>\n",
              "      <td>./articles/CBMilAFodHRwczovL2Vjb25vbWljdGltZXM...</td>\n",
              "      <td>Sensex surges 693 pts, Nifty above 7,800; what...</td>\n",
              "      <td>Here's a look at the key factors that lifted t...</td>\n",
              "      <td>2020-03-24 08:50:00</td>\n",
              "    </tr>\n",
              "    <tr>\n",
              "      <th>1</th>\n",
              "      <td>./articles/CBMihAFodHRwczovL3d3dy5tb25leWNvbnR...</td>\n",
              "      <td>Infosys share price rallies 10% on SEC all cle...</td>\n",
              "      <td>Infosys share price rallied 10 percent intrada...</td>\n",
              "      <td>2020-03-24 06:32:00</td>\n",
              "    </tr>\n",
              "    <tr>\n",
              "      <th>2</th>\n",
              "      <td>./articles/CAIiEFz0mbA5LXI-MeZR6UcrM08qGQgEKhA...</td>\n",
              "      <td>No salary deduction during domestic flights su...</td>\n",
              "      <td>Budget carrier IndiGo has assured its employee...</td>\n",
              "      <td>2020-03-24 10:00:14</td>\n",
              "    </tr>\n",
              "    <tr>\n",
              "      <th>3</th>\n",
              "      <td>./articles/CBMifmh0dHBzOi8vd3d3LmxpdmVtaW50LmN...</td>\n",
              "      <td>Gold prices jump ₹1,100 per 10 gram in 2 days ...</td>\n",
              "      <td>Gold rates in India have seen a wide swing thi...</td>\n",
              "      <td>2020-03-24 03:53:37</td>\n",
              "    </tr>\n",
              "    <tr>\n",
              "      <th>4</th>\n",
              "      <td>./articles/CBMiogFodHRwczovL3d3dy5kZWNjYW5oZXJ...</td>\n",
              "      <td>Rupee plummets 102 paise to all time low of 76...</td>\n",
              "      <td>The rupee on Monday tumbled by 102 paise to se...</td>\n",
              "      <td>2020-03-23 12:44:33</td>\n",
              "    </tr>\n",
              "    <tr>\n",
              "      <th>5</th>\n",
              "      <td>./articles/CBMijAFodHRwczovL2F1dG8uaGluZHVzdGF...</td>\n",
              "      <td>Excise on fuels may go up by upto ₹8 per litre...</td>\n",
              "      <td>The government has decided to raise excise dut...</td>\n",
              "      <td>2020-03-24 04:49:52</td>\n",
              "    </tr>\n",
              "    <tr>\n",
              "      <th>6</th>\n",
              "      <td>./articles/CAIiEKdsQhfkWakmmC5AVeaiNckqGQgEKhA...</td>\n",
              "      <td>Reliance Jio offers free internet; Airtel, Vod...</td>\n",
              "      <td>Mukesh Ambani's Reliance Jio, Bharti Airtel, a...</td>\n",
              "      <td>2020-03-24 05:55:57</td>\n",
              "    </tr>\n",
              "    <tr>\n",
              "      <th>7</th>\n",
              "      <td>./articles/CAIiEJot_sZUmU294wz1VTDP484qGQgEKhA...</td>\n",
              "      <td>Buzzing stocks: Vodafone Idea, YES Bank, SBI, ...</td>\n",
              "      <td>HDFC Bank (Rs 45.77 crore) was leading the pac...</td>\n",
              "      <td>2020-03-24 03:56:19</td>\n",
              "    </tr>\n",
              "    <tr>\n",
              "      <th>8</th>\n",
              "      <td>./articles/CAIiEIYaELJwW1NHnAWS8q_g9a0qGQgEKhA...</td>\n",
              "      <td>First ‘Made-in-India’ COVID-19 Test Kit Develo...</td>\n",
              "      <td>Pune-based molecular diagnostics company Mylab...</td>\n",
              "      <td>2020-03-24 04:30:09</td>\n",
              "    </tr>\n",
              "    <tr>\n",
              "      <th>9</th>\n",
              "      <td>./articles/CAIiECRznH3nHbevYr5TcSrt3JgqGQgEKhA...</td>\n",
              "      <td>Reliance Sets Up India's First Dedicated Coron...</td>\n",
              "      <td>Reliance Industries Limited (RIL) on Monday sa...</td>\n",
              "      <td>2020-03-24 04:45:51</td>\n",
              "    </tr>\n",
              "    <tr>\n",
              "      <th>10</th>\n",
              "      <td>./articles/CAIiEP2BgL_5_IiSF3YZMlPwXAsqGQgEKhA...</td>\n",
              "      <td>WHO says India's action on coronavirus critica...</td>\n",
              "      <td>India is becoming the epicentre of the global ...</td>\n",
              "      <td>2020-03-24 05:36:19</td>\n",
              "    </tr>\n",
              "    <tr>\n",
              "      <th>11</th>\n",
              "      <td>./articles/CAIiEOWqaY9MuDCZYdJXsLp_ZYgqGQgEKhA...</td>\n",
              "      <td>Who to blame for Yes Bank crisis? Former RBI c...</td>\n",
              "      <td>In an interview with news agency PTI, Bimal Ja...</td>\n",
              "      <td>2020-03-24 08:04:08</td>\n",
              "    </tr>\n",
              "    <tr>\n",
              "      <th>12</th>\n",
              "      <td>./articles/CAIiEPaHlZzbCjqO0aceWnYlxkkqFAgEKg0...</td>\n",
              "      <td>Netflix is reducing its traffic on ISPs by 25%...</td>\n",
              "      <td>Netflix said on Tuesday that it is lowering it...</td>\n",
              "      <td>2020-03-24 06:55:31</td>\n",
              "    </tr>\n",
              "    <tr>\n",
              "      <th>13</th>\n",
              "      <td>./articles/CBMiswFodHRwczovL3d3dy5idXNpbmVzc2l...</td>\n",
              "      <td>Tech billionaires including Tim Cook, Elon Mus...</td>\n",
              "      <td>Reuters/Nicholas PfosiAn N95 respiration mask....</td>\n",
              "      <td>2020-03-23 10:57:00</td>\n",
              "    </tr>\n",
              "    <tr>\n",
              "      <th>14</th>\n",
              "      <td>./articles/CAIiEH0430VM6_P2YueC0kJsVFsqGQgEKhA...</td>\n",
              "      <td>With latest moves, Fed becomes creditor-in-chi...</td>\n",
              "      <td>The Fed's new efforts are meant to have enough...</td>\n",
              "      <td>2020-03-24 10:18:00</td>\n",
              "    </tr>\n",
              "    <tr>\n",
              "      <th>15</th>\n",
              "      <td>./articles/CBMisgFodHRwczovL3d3dy5idXNpbmVzc2l...</td>\n",
              "      <td>Your Amazon and Flipkart deliveries will conti...</td>\n",
              "      <td>E-commerce comes under the essential services ...</td>\n",
              "      <td>2020-03-23 06:38:00</td>\n",
              "    </tr>\n",
              "    <tr>\n",
              "      <th>16</th>\n",
              "      <td>./articles/CBMiiQFodHRwczovL3d3dy5tb25leWNvbnR...</td>\n",
              "      <td>HUL share price jumps 6% after acquiring hygie...</td>\n",
              "      <td>Share price of FMCG major Hindustan Unilever j...</td>\n",
              "      <td>2020-03-24 04:30:00</td>\n",
              "    </tr>\n",
              "    <tr>\n",
              "      <th>17</th>\n",
              "      <td>./articles/CAIiEFPRRBlPuLQZAYIABS774goqGQgEKhA...</td>\n",
              "      <td>IMF Warns Covid-19 Recession Could be Worse Th...</td>\n",
              "      <td>IMF chief Kristalina Georgieva called on advan...</td>\n",
              "      <td>2020-03-24 02:54:15</td>\n",
              "    </tr>\n",
              "    <tr>\n",
              "      <th>18</th>\n",
              "      <td>./articles/CBMiW2h0dHBzOi8vZ2FhZGl3YWFkaS5jb20...</td>\n",
              "      <td>Royal Enfield Feb 2020 Model Wise Sales - Clas...</td>\n",
              "      <td>Royal Enfield sold a total of 61188 units last...</td>\n",
              "      <td>2020-03-24 09:13:00</td>\n",
              "    </tr>\n",
              "    <tr>\n",
              "      <th>19</th>\n",
              "      <td>./articles/CAIiEMtnRV_xLK0XmNierSlOgagqGQgEKhA...</td>\n",
              "      <td>As Flights Cancelled, A New Concern For Airlin...</td>\n",
              "      <td>As airlines idle thousands of aircraft for whi...</td>\n",
              "      <td>2020-03-24 10:11:34</td>\n",
              "    </tr>\n",
              "    <tr>\n",
              "      <th>20</th>\n",
              "      <td>./articles/CBMiaWh0dHBzOi8vd3d3LmFsdG5ld3MuaW4...</td>\n",
              "      <td>Image of COVID-19 test kit shared as newly dev...</td>\n",
              "      <td>A message circulating on WhatsApp claims that ...</td>\n",
              "      <td>2020-03-23 11:40:47</td>\n",
              "    </tr>\n",
              "    <tr>\n",
              "      <th>21</th>\n",
              "      <td>./articles/CBMijAFodHRwczovL2Vjb25vbWljdGltZXM...</td>\n",
              "      <td>IndusInd Bank shares tank 30% as Romesh Sobti ...</td>\n",
              "      <td>Sumant Kathpalia will take over the reins from...</td>\n",
              "      <td>2020-03-24 05:07:00</td>\n",
              "    </tr>\n",
              "    <tr>\n",
              "      <th>22</th>\n",
              "      <td>./articles/CBMijQFodHRwczovL2F1dG8uaGluZHVzdGF...</td>\n",
              "      <td>From Maruti to Hyundai: Coronavirus in India f...</td>\n",
              "      <td>As several states enforced lockdown for most p...</td>\n",
              "      <td>2020-03-23 03:04:49</td>\n",
              "    </tr>\n",
              "    <tr>\n",
              "      <th>23</th>\n",
              "      <td>./articles/CBMieWh0dHBzOi8vd3d3LmxpdmVtaW50LmN...</td>\n",
              "      <td>In bid for coronavirus vaccine, U.S. eases acc...</td>\n",
              "      <td>The U.S. government, International Business Ma...</td>\n",
              "      <td>2020-03-23 09:39:14</td>\n",
              "    </tr>\n",
              "    <tr>\n",
              "      <th>24</th>\n",
              "      <td>./articles/CBMiUmh0dHBzOi8vZ2FhZGl3YWFkaS5jb20...</td>\n",
              "      <td>Mahindra Sold 93% Diesel Cars in 2019 - Scorpi...</td>\n",
              "      <td>With the narrowing price gap between diesel an...</td>\n",
              "      <td>2020-03-24 04:20:00</td>\n",
              "    </tr>\n",
              "    <tr>\n",
              "      <th>25</th>\n",
              "      <td>./articles/CBMiigFodHRwczovL3d3dy5tb25leWNvbnR...</td>\n",
              "      <td>Coronavirus forces SEBI to reduce compliance b...</td>\n",
              "      <td>SEBI is closely monitoring the movements in th...</td>\n",
              "      <td>2020-03-23 17:27:00</td>\n",
              "    </tr>\n",
              "    <tr>\n",
              "      <th>26</th>\n",
              "      <td>./articles/CAIiEGvd5gpzrSOlCA3ZRiRpOScqGQgEKhA...</td>\n",
              "      <td>Brakes on automobile production as plants shut...</td>\n",
              "      <td>India News: CHENNAI: India's second largest ca...</td>\n",
              "      <td>2020-03-23 09:45:45</td>\n",
              "    </tr>\n",
              "    <tr>\n",
              "      <th>27</th>\n",
              "      <td>./articles/CBMihAFodHRwczovL3d3dy5uZXdpbmRpYW5...</td>\n",
              "      <td>Three reasons why stock markets cannot be shut...</td>\n",
              "      <td>Exchanges including NSE, BSE and MCX also allo...</td>\n",
              "      <td>2020-03-23 06:31:00</td>\n",
              "    </tr>\n",
              "    <tr>\n",
              "      <th>28</th>\n",
              "      <td>./articles/CAIiEPjhR99BTNEic829I8kpCRoqGQgEKhA...</td>\n",
              "      <td>Crude oil prices slump amid coronavirus chaos</td>\n",
              "      <td>TOKYO: Oil prices fell on Monday as government...</td>\n",
              "      <td>2020-03-23 02:27:33</td>\n",
              "    </tr>\n",
              "    <tr>\n",
              "      <th>29</th>\n",
              "      <td>./articles/CAIiEA8cqOeWcn5b_k1K1TCSgGcqGQgEKhA...</td>\n",
              "      <td>Amazon hikes overtime pay for workers in US</td>\n",
              "      <td>Amazon Founder and CEO Jeff Bezos sent a memo ...</td>\n",
              "      <td>2020-03-23 11:57:45</td>\n",
              "    </tr>\n",
              "    <tr>\n",
              "      <th>30</th>\n",
              "      <td>./articles/CBMiXWh0dHBzOi8vd3d3LmNhcmRla2hvLmN...</td>\n",
              "      <td>Hyundai Creta vs MG Hector: Which SUV To Buy?</td>\n",
              "      <td>The Creta is the latest SUV creating a buzz in...</td>\n",
              "      <td>2020-03-24 08:03:00</td>\n",
              "    </tr>\n",
              "    <tr>\n",
              "      <th>31</th>\n",
              "      <td>./articles/CAIiEIcHFubOpzMm99bir1SL2cgqGQgEKhA...</td>\n",
              "      <td>Crypto Exchange CoinDCX Raises $3 Mn For Produ...</td>\n",
              "      <td>Mumbai-based cryptocurrency exchange aggregato...</td>\n",
              "      <td>2020-03-24 02:57:35</td>\n",
              "    </tr>\n",
              "    <tr>\n",
              "      <th>32</th>\n",
              "      <td>./articles/CAIiEEgEti3JRfZBLFOVdl0Luc8qGQgEKhA...</td>\n",
              "      <td>BigBasket app, site crash on high demand</td>\n",
              "      <td>NEW DELHI: Website and mobile app of online gr...</td>\n",
              "      <td>2020-03-24 02:40:10</td>\n",
              "    </tr>\n",
              "    <tr>\n",
              "      <th>33</th>\n",
              "      <td>./articles/CBMiS2h0dHBzOi8vd3d3LnRlY2hpbmFzaWE...</td>\n",
              "      <td>WeWork demands completion of SoftBank’s $3b co...</td>\n",
              "      <td>WeWork on Sunday said SoftBank should complete...</td>\n",
              "      <td>2020-03-23 05:00:00</td>\n",
              "    </tr>\n",
              "    <tr>\n",
              "      <th>34</th>\n",
              "      <td>./articles/CBMihAFodHRwczovL3d3dy5tb25leWNvbnR...</td>\n",
              "      <td>Sterlite Tech share price jumps 8% after board...</td>\n",
              "      <td>The share price of Sterlite Technologies spike...</td>\n",
              "      <td>2020-03-24 06:16:00</td>\n",
              "    </tr>\n",
              "    <tr>\n",
              "      <th>35</th>\n",
              "      <td>./articles/CAIiEKcDBweDREOyTALNIFbPvv4qGQgEKhA...</td>\n",
              "      <td>Covid-19 an economic tsunami; biz failures, ba...</td>\n",
              "      <td>Coronavirus (Covid-19) pandemic has created a ...</td>\n",
              "      <td>2020-03-24 08:20:34</td>\n",
              "    </tr>\n",
              "    <tr>\n",
              "      <th>36</th>\n",
              "      <td>./articles/CAIiELCiRAWAYVhoQClrj6ISV6QqGQgEKhA...</td>\n",
              "      <td>Reliance Jio offering free broadband data! Che...</td>\n",
              "      <td>The company has also doubled data limits for t...</td>\n",
              "      <td>2020-03-23 14:37:33</td>\n",
              "    </tr>\n",
              "    <tr>\n",
              "      <th>37</th>\n",
              "      <td>./articles/CBMigQFodHRwczovL2F1dG8uaGluZHVzdGF...</td>\n",
              "      <td>Coronavirus impact: This company will deliver ...</td>\n",
              "      <td>The drones will pass new car keys to consumers...</td>\n",
              "      <td>2020-03-23 10:52:03</td>\n",
              "    </tr>\n",
              "    <tr>\n",
              "      <th>38</th>\n",
              "      <td>./articles/CAIiEEWMy56P7UJZoQTDsJ4IztIqGAgEKg8...</td>\n",
              "      <td>Rapid coronavirus test with 45-min detection t...</td>\n",
              "      <td>The American Food and Drug Administration has ...</td>\n",
              "      <td>2020-03-24 04:35:52</td>\n",
              "    </tr>\n",
              "    <tr>\n",
              "      <th>39</th>\n",
              "      <td>./articles/CBMiYmh0dHBzOi8vd3d3LmdzbWFyZW5hLmN...</td>\n",
              "      <td>Samsung temporarily closes its smartphone fact...</td>\n",
              "      <td>Samsung is forced to temporarily close a secon...</td>\n",
              "      <td>2020-03-23 10:22:02</td>\n",
              "    </tr>\n",
              "    <tr>\n",
              "      <th>40</th>\n",
              "      <td>./articles/CBMifWh0dHBzOi8vd3d3LmxpdmVtaW50LmN...</td>\n",
              "      <td>Coronavirus lockdown: Banks open but some bran...</td>\n",
              "      <td>The Indian Banks' Association has suggested ba...</td>\n",
              "      <td>2020-03-23 07:10:17</td>\n",
              "    </tr>\n",
              "    <tr>\n",
              "      <th>41</th>\n",
              "      <td>./articles/CBMiQmh0dHBzOi8vd3d3LnJ1c2hsYW5lLmN...</td>\n",
              "      <td>Jawa Perak deliveries delayed - Jawa productio...</td>\n",
              "      <td>Jawa Perak deliveries delay due to corona viru...</td>\n",
              "      <td>2020-03-24 07:00:46</td>\n",
              "    </tr>\n",
              "    <tr>\n",
              "      <th>42</th>\n",
              "      <td>./articles/CBMisAFodHRwczovL2Vjb25vbWljdGltZXM...</td>\n",
              "      <td>Covid 19: As cities go for lockdown, out of no...</td>\n",
              "      <td>Zoom has been preparing for this moment since ...</td>\n",
              "      <td>2020-03-24 04:01:00</td>\n",
              "    </tr>\n",
              "    <tr>\n",
              "      <th>43</th>\n",
              "      <td>./articles/CBMinAFodHRwczovL3d3dy5tb25leWNvbnR...</td>\n",
              "      <td>Coronavirus pandemic | Mahindra factories to m...</td>\n",
              "      <td>Mahindra Group CEO Anand Mahindra announced a ...</td>\n",
              "      <td>2020-03-23 06:58:00</td>\n",
              "    </tr>\n",
              "    <tr>\n",
              "      <th>44</th>\n",
              "      <td>./articles/CBMib2h0dHBzOi8vd3d3Lm5ld3NidGMuY29...</td>\n",
              "      <td>$50 Is Final Target For Ethereum Correction Ac...</td>\n",
              "      <td>Ethereum led the cryptocurrency market to enor...</td>\n",
              "      <td>2020-03-23 17:01:37</td>\n",
              "    </tr>\n",
              "    <tr>\n",
              "      <th>45</th>\n",
              "      <td>./articles/CBMipgFodHRwczovL3d3dy5tb25leWNvbnR...</td>\n",
              "      <td>Jubilant Food suspends dine-in facility across...</td>\n",
              "      <td>Share price of Domino's Pizza's operator Jubil...</td>\n",
              "      <td>2020-03-24 05:12:00</td>\n",
              "    </tr>\n",
              "    <tr>\n",
              "      <th>46</th>\n",
              "      <td>./articles/CAIiEDOPU5uF8OkZPA3p9RejSacqGQgEKhA...</td>\n",
              "      <td>Cognizant to acquire US-based digital marketin...</td>\n",
              "      <td>Cognizant said it has entered into an agreemen...</td>\n",
              "      <td>2020-03-24 08:50:25</td>\n",
              "    </tr>\n",
              "    <tr>\n",
              "      <th>47</th>\n",
              "      <td>./articles/CBMiXGh0dHBzOi8vZ2FhZGl3YWFkaS5jb20...</td>\n",
              "      <td>HBX (Hornbill) Will Complete Tata's Volume Bas...</td>\n",
              "      <td>Tata HBX will be launched towards the end of t...</td>\n",
              "      <td>2020-03-23 11:00:00</td>\n",
              "    </tr>\n",
              "    <tr>\n",
              "      <th>48</th>\n",
              "      <td>./articles/CBMioAFodHRwczovL2Vjb25vbWljdGltZXM...</td>\n",
              "      <td>Utilities stay true to their name, repeat 2008...</td>\n",
              "      <td>Investors should look at companies with an ass...</td>\n",
              "      <td>2020-03-24 02:36:00</td>\n",
              "    </tr>\n",
              "    <tr>\n",
              "      <th>49</th>\n",
              "      <td>./articles/CAIiELeGUEvNkBbMh8-S6OGkgucqFwgEKg8...</td>\n",
              "      <td>Coronavirus Outbreak: SEBI eases compliance re...</td>\n",
              "      <td>New Delhi: In a bid to reduce compliance burde...</td>\n",
              "      <td>2020-03-24 05:43:29</td>\n",
              "    </tr>\n",
              "    <tr>\n",
              "      <th>50</th>\n",
              "      <td>./articles/CAIiEM1byJiofXZDCt_iG3PMdOIqGQgEKhA...</td>\n",
              "      <td>COVID-19: Travelling by flight in India? The s...</td>\n",
              "      <td>Coronavirus COVID-19 outbreak in India: Travel...</td>\n",
              "      <td>2020-03-23 11:51:27</td>\n",
              "    </tr>\n",
              "    <tr>\n",
              "      <th>51</th>\n",
              "      <td>./articles/CAIiEJPt-zk3Ri_YRQ1VfdGSXUYqGQgEKhA...</td>\n",
              "      <td>IT captives see project delays amid lockdown</td>\n",
              "      <td>Bengaluru: India technology captives or global...</td>\n",
              "      <td>2020-03-24 02:30:23</td>\n",
              "    </tr>\n",
              "    <tr>\n",
              "      <th>52</th>\n",
              "      <td>./articles/CBMia2h0dHBzOi8vd3d3LmNuYmN0djE4LmN...</td>\n",
              "      <td>Tuesday's biggest brokerage calls: HDFC Bank, ...</td>\n",
              "      <td>The Indian markets are likely to open higher f...</td>\n",
              "      <td>2020-03-24 02:49:37</td>\n",
              "    </tr>\n",
              "    <tr>\n",
              "      <th>53</th>\n",
              "      <td>./articles/CAIiED1091b105lnufONlGdcWHEqGQgEKhA...</td>\n",
              "      <td>Emirates Airline Retracts Decision to Halt Pas...</td>\n",
              "      <td>Dubai carrier Emirates reversed on Sunday its ...</td>\n",
              "      <td>2020-03-23 14:19:06</td>\n",
              "    </tr>\n",
              "    <tr>\n",
              "      <th>54</th>\n",
              "      <td>./articles/CAIiEFlcMtuz4ardM9PFoz5G988qGQgEKhA...</td>\n",
              "      <td>Singapore Airlines cuts capacity by 96%; groun...</td>\n",
              "      <td>Singapore Airlines announced on March 23 that ...</td>\n",
              "      <td>2020-03-23 08:22:06</td>\n",
              "    </tr>\n",
              "    <tr>\n",
              "      <th>55</th>\n",
              "      <td>./articles/CBMid2h0dHBzOi8vdGhlcHJpbnQuaW4vaGV...</td>\n",
              "      <td>‘Experimental’ drug that failed to cure ebola ...</td>\n",
              "      <td>New Delhi: A drug that was presented and then ...</td>\n",
              "      <td>2020-03-24 03:31:39</td>\n",
              "    </tr>\n",
              "    <tr>\n",
              "      <th>56</th>\n",
              "      <td>./articles/CAIiELpX5dnnj0tAnLqgcBreykwqGQgEKhA...</td>\n",
              "      <td>This is what your 'coronavirus search' on Goog...</td>\n",
              "      <td>NEW DELHI: Internet search giant Google's dedi...</td>\n",
              "      <td>2020-03-23 03:48:19</td>\n",
              "    </tr>\n",
              "    <tr>\n",
              "      <th>57</th>\n",
              "      <td>./articles/CBMiigFodHRwczovL3d3dy5saXZlbWludC5...</td>\n",
              "      <td>Stocks to Watch: SBI, Dr Reddy's, Jubilant Foo...</td>\n",
              "      <td>SBI has made payment of yearly interest to bon...</td>\n",
              "      <td>2020-03-24 02:37:55</td>\n",
              "    </tr>\n",
              "  </tbody>\n",
              "</table>\n",
              "</div>"
            ],
            "text/plain": [
              "                                                 Link  ...                Date\n",
              "0   ./articles/CBMilAFodHRwczovL2Vjb25vbWljdGltZXM...  ... 2020-03-24 08:50:00\n",
              "1   ./articles/CBMihAFodHRwczovL3d3dy5tb25leWNvbnR...  ... 2020-03-24 06:32:00\n",
              "2   ./articles/CAIiEFz0mbA5LXI-MeZR6UcrM08qGQgEKhA...  ... 2020-03-24 10:00:14\n",
              "3   ./articles/CBMifmh0dHBzOi8vd3d3LmxpdmVtaW50LmN...  ... 2020-03-24 03:53:37\n",
              "4   ./articles/CBMiogFodHRwczovL3d3dy5kZWNjYW5oZXJ...  ... 2020-03-23 12:44:33\n",
              "5   ./articles/CBMijAFodHRwczovL2F1dG8uaGluZHVzdGF...  ... 2020-03-24 04:49:52\n",
              "6   ./articles/CAIiEKdsQhfkWakmmC5AVeaiNckqGQgEKhA...  ... 2020-03-24 05:55:57\n",
              "7   ./articles/CAIiEJot_sZUmU294wz1VTDP484qGQgEKhA...  ... 2020-03-24 03:56:19\n",
              "8   ./articles/CAIiEIYaELJwW1NHnAWS8q_g9a0qGQgEKhA...  ... 2020-03-24 04:30:09\n",
              "9   ./articles/CAIiECRznH3nHbevYr5TcSrt3JgqGQgEKhA...  ... 2020-03-24 04:45:51\n",
              "10  ./articles/CAIiEP2BgL_5_IiSF3YZMlPwXAsqGQgEKhA...  ... 2020-03-24 05:36:19\n",
              "11  ./articles/CAIiEOWqaY9MuDCZYdJXsLp_ZYgqGQgEKhA...  ... 2020-03-24 08:04:08\n",
              "12  ./articles/CAIiEPaHlZzbCjqO0aceWnYlxkkqFAgEKg0...  ... 2020-03-24 06:55:31\n",
              "13  ./articles/CBMiswFodHRwczovL3d3dy5idXNpbmVzc2l...  ... 2020-03-23 10:57:00\n",
              "14  ./articles/CAIiEH0430VM6_P2YueC0kJsVFsqGQgEKhA...  ... 2020-03-24 10:18:00\n",
              "15  ./articles/CBMisgFodHRwczovL3d3dy5idXNpbmVzc2l...  ... 2020-03-23 06:38:00\n",
              "16  ./articles/CBMiiQFodHRwczovL3d3dy5tb25leWNvbnR...  ... 2020-03-24 04:30:00\n",
              "17  ./articles/CAIiEFPRRBlPuLQZAYIABS774goqGQgEKhA...  ... 2020-03-24 02:54:15\n",
              "18  ./articles/CBMiW2h0dHBzOi8vZ2FhZGl3YWFkaS5jb20...  ... 2020-03-24 09:13:00\n",
              "19  ./articles/CAIiEMtnRV_xLK0XmNierSlOgagqGQgEKhA...  ... 2020-03-24 10:11:34\n",
              "20  ./articles/CBMiaWh0dHBzOi8vd3d3LmFsdG5ld3MuaW4...  ... 2020-03-23 11:40:47\n",
              "21  ./articles/CBMijAFodHRwczovL2Vjb25vbWljdGltZXM...  ... 2020-03-24 05:07:00\n",
              "22  ./articles/CBMijQFodHRwczovL2F1dG8uaGluZHVzdGF...  ... 2020-03-23 03:04:49\n",
              "23  ./articles/CBMieWh0dHBzOi8vd3d3LmxpdmVtaW50LmN...  ... 2020-03-23 09:39:14\n",
              "24  ./articles/CBMiUmh0dHBzOi8vZ2FhZGl3YWFkaS5jb20...  ... 2020-03-24 04:20:00\n",
              "25  ./articles/CBMiigFodHRwczovL3d3dy5tb25leWNvbnR...  ... 2020-03-23 17:27:00\n",
              "26  ./articles/CAIiEGvd5gpzrSOlCA3ZRiRpOScqGQgEKhA...  ... 2020-03-23 09:45:45\n",
              "27  ./articles/CBMihAFodHRwczovL3d3dy5uZXdpbmRpYW5...  ... 2020-03-23 06:31:00\n",
              "28  ./articles/CAIiEPjhR99BTNEic829I8kpCRoqGQgEKhA...  ... 2020-03-23 02:27:33\n",
              "29  ./articles/CAIiEA8cqOeWcn5b_k1K1TCSgGcqGQgEKhA...  ... 2020-03-23 11:57:45\n",
              "30  ./articles/CBMiXWh0dHBzOi8vd3d3LmNhcmRla2hvLmN...  ... 2020-03-24 08:03:00\n",
              "31  ./articles/CAIiEIcHFubOpzMm99bir1SL2cgqGQgEKhA...  ... 2020-03-24 02:57:35\n",
              "32  ./articles/CAIiEEgEti3JRfZBLFOVdl0Luc8qGQgEKhA...  ... 2020-03-24 02:40:10\n",
              "33  ./articles/CBMiS2h0dHBzOi8vd3d3LnRlY2hpbmFzaWE...  ... 2020-03-23 05:00:00\n",
              "34  ./articles/CBMihAFodHRwczovL3d3dy5tb25leWNvbnR...  ... 2020-03-24 06:16:00\n",
              "35  ./articles/CAIiEKcDBweDREOyTALNIFbPvv4qGQgEKhA...  ... 2020-03-24 08:20:34\n",
              "36  ./articles/CAIiELCiRAWAYVhoQClrj6ISV6QqGQgEKhA...  ... 2020-03-23 14:37:33\n",
              "37  ./articles/CBMigQFodHRwczovL2F1dG8uaGluZHVzdGF...  ... 2020-03-23 10:52:03\n",
              "38  ./articles/CAIiEEWMy56P7UJZoQTDsJ4IztIqGAgEKg8...  ... 2020-03-24 04:35:52\n",
              "39  ./articles/CBMiYmh0dHBzOi8vd3d3LmdzbWFyZW5hLmN...  ... 2020-03-23 10:22:02\n",
              "40  ./articles/CBMifWh0dHBzOi8vd3d3LmxpdmVtaW50LmN...  ... 2020-03-23 07:10:17\n",
              "41  ./articles/CBMiQmh0dHBzOi8vd3d3LnJ1c2hsYW5lLmN...  ... 2020-03-24 07:00:46\n",
              "42  ./articles/CBMisAFodHRwczovL2Vjb25vbWljdGltZXM...  ... 2020-03-24 04:01:00\n",
              "43  ./articles/CBMinAFodHRwczovL3d3dy5tb25leWNvbnR...  ... 2020-03-23 06:58:00\n",
              "44  ./articles/CBMib2h0dHBzOi8vd3d3Lm5ld3NidGMuY29...  ... 2020-03-23 17:01:37\n",
              "45  ./articles/CBMipgFodHRwczovL3d3dy5tb25leWNvbnR...  ... 2020-03-24 05:12:00\n",
              "46  ./articles/CAIiEDOPU5uF8OkZPA3p9RejSacqGQgEKhA...  ... 2020-03-24 08:50:25\n",
              "47  ./articles/CBMiXGh0dHBzOi8vZ2FhZGl3YWFkaS5jb20...  ... 2020-03-23 11:00:00\n",
              "48  ./articles/CBMioAFodHRwczovL2Vjb25vbWljdGltZXM...  ... 2020-03-24 02:36:00\n",
              "49  ./articles/CAIiELeGUEvNkBbMh8-S6OGkgucqFwgEKg8...  ... 2020-03-24 05:43:29\n",
              "50  ./articles/CAIiEM1byJiofXZDCt_iG3PMdOIqGQgEKhA...  ... 2020-03-23 11:51:27\n",
              "51  ./articles/CAIiEJPt-zk3Ri_YRQ1VfdGSXUYqGQgEKhA...  ... 2020-03-24 02:30:23\n",
              "52  ./articles/CBMia2h0dHBzOi8vd3d3LmNuYmN0djE4LmN...  ... 2020-03-24 02:49:37\n",
              "53  ./articles/CAIiED1091b105lnufONlGdcWHEqGQgEKhA...  ... 2020-03-23 14:19:06\n",
              "54  ./articles/CAIiEFlcMtuz4ardM9PFoz5G988qGQgEKhA...  ... 2020-03-23 08:22:06\n",
              "55  ./articles/CBMid2h0dHBzOi8vdGhlcHJpbnQuaW4vaGV...  ... 2020-03-24 03:31:39\n",
              "56  ./articles/CAIiELpX5dnnj0tAnLqgcBreykwqGQgEKhA...  ... 2020-03-23 03:48:19\n",
              "57  ./articles/CBMiigFodHRwczovL3d3dy5saXZlbWludC5...  ... 2020-03-24 02:37:55\n",
              "\n",
              "[58 rows x 4 columns]"
            ]
          },
          "metadata": {
            "tags": []
          },
          "execution_count": 484
        }
      ]
    },
    {
      "cell_type": "markdown",
      "metadata": {
        "id": "Wd8H3H3gQ3V_",
        "colab_type": "text"
      },
      "source": [
        "In the future,this DataFrame can be rebuilt by reading the CSV file back into pandas"
      ]
    },
    {
      "cell_type": "code",
      "metadata": {
        "id": "c60YTSpKnU3q",
        "colab_type": "code",
        "colab": {}
      },
      "source": [
        "df = pd.read_csv('main_news.csv')"
      ],
      "execution_count": 0,
      "outputs": []
    }
  ]
}